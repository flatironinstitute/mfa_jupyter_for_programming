{
 "cells": [
  {
   "cell_type": "markdown",
   "metadata": {},
   "source": [
    "# An abbreviated quick reference\n",
    "\n",
    "This notebook explains some tools used in the other notebooks in quick reference format.\n",
    "Please refer to the hints here for help with the other notebooks.\n",
    "\n",
    "# Lists and Tuples"
   ]
  },
  {
   "cell_type": "code",
   "execution_count": 1,
   "metadata": {},
   "outputs": [],
   "source": [
    "# Lists and tuples:  Below is a list of tuples\n",
    "points = [\n",
    "    (0,6),\n",
    "    (3,0),\n",
    "    (10,2),\n",
    "    (12,9),\n",
    "    (9,12),\n",
    "    (6,17)\n",
    "]"
   ]
  },
  {
   "cell_type": "code",
   "execution_count": 2,
   "metadata": {},
   "outputs": [
    {
     "name": "stdout",
     "output_type": "stream",
     "text": [
      "the first point is (0, 6)\n",
      "the second point is (3, 0)\n",
      "the last point is (6, 17)\n",
      "There are 6 points\n"
     ]
    }
   ],
   "source": [
    "# Lists and tuples have a lot of useful features\n",
    "print(\"the first point is\", points[0])\n",
    "print(\"the second point is\", points[1])\n",
    "print(\"the last point is\", points[-1])\n",
    "print(\"There are\", len(points), \"points\")"
   ]
  },
  {
   "cell_type": "code",
   "execution_count": 3,
   "metadata": {},
   "outputs": [
    {
     "name": "stdout",
     "output_type": "stream",
     "text": [
      "the total of x's is 40 and the average x value is 6.666666666666667\n"
     ]
    }
   ],
   "source": [
    "# One of the most useful things you can do with lists (and tuples) is iterate over their members\n",
    "total_x = 0\n",
    "for point in points:\n",
    "    (x, y) = point\n",
    "    total_x = total_x + x\n",
    "    \n",
    "# (Purists will object that there are better/alternative ways to do the above\n",
    "# but here we keep things simple for now.)\n",
    "print(\"the total of x's is\", total_x, \"and the average x value is\", total_x/len(points))"
   ]
  },
  {
   "cell_type": "code",
   "execution_count": 4,
   "metadata": {},
   "outputs": [
    {
     "data": {
      "text/plain": [
       "[1, 2, 5]"
      ]
     },
     "execution_count": 4,
     "metadata": {},
     "output_type": "execute_result"
    }
   ],
   "source": [
    "# You can change lists\n",
    "my_list = [1,2,3]\n",
    "my_list[2] = 5\n",
    "my_list"
   ]
  },
  {
   "cell_type": "code",
   "execution_count": null,
   "metadata": {},
   "outputs": [],
   "source": [
    "# You can't change tuples at the \"top level\"\n",
    "my_tuple = (1,2,3)\n",
    "my_tuple[2] = 5\n",
    "my_tuple"
   ]
  },
  {
   "cell_type": "code",
   "execution_count": 7,
   "metadata": {},
   "outputs": [
    {
     "name": "stdout",
     "output_type": "stream",
     "text": [
      "   point[ 0 ] has value  (0, 6)\n",
      "   point[ 1 ] has value  (3, 0)\n",
      "   point[ 2 ] has value  (10, 2)\n",
      "   point[ 3 ] has value  (12, 9)\n",
      "   point[ 4 ] has value  (9, 12)\n",
      "   point[ 5 ] has value  (6, 17)\n"
     ]
    }
   ],
   "source": [
    "# enumeration in looping\n",
    "for (index, location) in enumerate(points):\n",
    "    print (\"   point[\", index, \"] has value \", location)"
   ]
  },
  {
   "cell_type": "markdown",
   "metadata": {},
   "source": [
    "# Dictionaries and sets"
   ]
  },
  {
   "cell_type": "code",
   "execution_count": 9,
   "metadata": {},
   "outputs": [
    {
     "data": {
      "text/plain": [
       "{0: 0, 1: 2, 2: 4, 3: 6, 4: 8, 5: 10, 6: 12, 7: 14, 8: 16, 9: 18}"
      ]
     },
     "execution_count": 9,
     "metadata": {},
     "output_type": "execute_result"
    }
   ],
   "source": [
    "# A calculated dictionary\n",
    "double = {}  # make an empty Dictionary.\n",
    "\n",
    "for i in range(10):\n",
    "    double[i] = i * 2\n",
    "    \n",
    "double"
   ]
  },
  {
   "cell_type": "code",
   "execution_count": 10,
   "metadata": {},
   "outputs": [
    {
     "name": "stdout",
     "output_type": "stream",
     "text": [
      "the double of 3 is 6\n",
      "    0 doubled is 0\n",
      "    1 doubled is 2\n",
      "    2 doubled is 4\n",
      "    3 doubled is 6\n",
      "    4 doubled is 8\n",
      "    5 doubled is 10\n",
      "    6 doubled is 12\n",
      "    7 doubled is 14\n",
      "    8 doubled is 16\n",
      "    9 doubled is 18\n",
      "all keys [0, 1, 2, 3, 4, 5, 6, 7, 8, 9]\n",
      "all values [0, 2, 4, 6, 8, 10, 12, 14, 16, 18]\n"
     ]
    }
   ],
   "source": [
    "# Get a value for a key\n",
    "print (\"the double of\", 3, \"is\", double[3])\n",
    "\n",
    "# Iterate across all keys in a for loop:\n",
    "for key in double:\n",
    "    value = double[key]\n",
    "    print (\"   \", key, \"doubled is\", value)\n",
    "    \n",
    "# get lists of all keys and all values\n",
    "print (\"all keys\", list(double.keys()))\n",
    "print (\"all values\", list(double.values()))\n"
   ]
  },
  {
   "cell_type": "code",
   "execution_count": 12,
   "metadata": {},
   "outputs": [
    {
     "name": "stdout",
     "output_type": "stream",
     "text": [
      "the female equivalent of 'king' is 'queen'\n"
     ]
    }
   ],
   "source": [
    "# A non-empty dictionary literal\n",
    "male_female = {\n",
    "    \"king\": \"queen\",\n",
    "    \"man\": \"woman\",\n",
    "    \"micky\": \"minny\",\n",
    "    \"clyde\": \"bonnie\",\n",
    "}\n",
    "print (\"the female equivalent of 'king' is\", repr(male_female[\"king\"]))"
   ]
  },
  {
   "cell_type": "markdown",
   "metadata": {},
   "source": [
    "# Arrays and numeric python\n",
    "\n",
    "Just what we need here (there's a lot more)..."
   ]
  },
  {
   "cell_type": "code",
   "execution_count": 13,
   "metadata": {},
   "outputs": [
    {
     "data": {
      "text/plain": [
       "array([ 1.,  1.,  2.,  3.,  5.,  8., 13.])"
      ]
     },
     "execution_count": 13,
     "metadata": {},
     "output_type": "execute_result"
    }
   ],
   "source": [
    "# The primary module is numpy usually abbreviated to np\n",
    "import numpy as np\n",
    "np.set_printoptions(precision=4)  # Don't show too many decimals\n",
    "\n",
    "# Make a literal array\n",
    "x = np.array([1, 1, 2, 3, 5, 8, 13], dtype=np.float)\n",
    "x"
   ]
  },
  {
   "cell_type": "code",
   "execution_count": 14,
   "metadata": {},
   "outputs": [
    {
     "data": {
      "text/plain": [
       "array([1.    , 1.    , 0.5   , 0.3333, 0.2   , 0.125 , 0.0769])"
      ]
     },
     "execution_count": 14,
     "metadata": {},
     "output_type": "execute_result"
    }
   ],
   "source": [
    "# arithmetic\n",
    "1/x"
   ]
  },
  {
   "cell_type": "code",
   "execution_count": 16,
   "metadata": {},
   "outputs": [
    {
     "data": {
      "text/plain": [
       "array([  1.,   1.,   4.,   9.,  25.,  64., 169.])"
      ]
     },
     "execution_count": 16,
     "metadata": {},
     "output_type": "execute_result"
    }
   ],
   "source": [
    "x ** 2"
   ]
  },
  {
   "cell_type": "code",
   "execution_count": 17,
   "metadata": {},
   "outputs": [
    {
     "data": {
      "text/plain": [
       "array([  2.,   2.,   2.,   4.,  14.,  44., 134.])"
      ]
     },
     "execution_count": 17,
     "metadata": {},
     "output_type": "execute_result"
    }
   ],
   "source": [
    "x ** 2 - 3 * x + 4"
   ]
  },
  {
   "cell_type": "code",
   "execution_count": 18,
   "metadata": {},
   "outputs": [
    {
     "data": {
      "text/plain": [
       "array([0.0998, 0.0998, 0.1987, 0.2955, 0.4794, 0.7174, 0.9636])"
      ]
     },
     "execution_count": 18,
     "metadata": {},
     "output_type": "execute_result"
    }
   ],
   "source": [
    "# numpy also has common numeric functions like sin, and cos generalized to arrays\n",
    "np.sin(x * 0.1)"
   ]
  },
  {
   "cell_type": "code",
   "execution_count": 19,
   "metadata": {},
   "outputs": [
    {
     "data": {
      "text/plain": [
       "array([-1. , -0.5,  0. ,  0.5,  1. ,  1.5,  2. ])"
      ]
     },
     "execution_count": 19,
     "metadata": {},
     "output_type": "execute_result"
    }
   ],
   "source": [
    "# Create an array with seven numbers uniformly between -1 and 2\n",
    "np.linspace(-1, 2, 7)"
   ]
  },
  {
   "cell_type": "code",
   "execution_count": null,
   "metadata": {},
   "outputs": [],
   "source": []
  }
 ],
 "metadata": {
  "kernelspec": {
   "display_name": "Python 3",
   "language": "python",
   "name": "python3"
  },
  "language_info": {
   "codemirror_mode": {
    "name": "ipython",
    "version": 3
   },
   "file_extension": ".py",
   "mimetype": "text/x-python",
   "name": "python",
   "nbconvert_exporter": "python",
   "pygments_lexer": "ipython3",
   "version": "3.6.8"
  }
 },
 "nbformat": 4,
 "nbformat_minor": 2
}
