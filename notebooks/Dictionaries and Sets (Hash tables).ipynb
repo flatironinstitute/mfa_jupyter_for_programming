{
 "cells": [
  {
   "cell_type": "markdown",
   "metadata": {},
   "source": [
    "# Dictionaries (Hash tables)\n",
    "\n",
    "This notebook demonstrates some simple uses for Python dictionaries and sets.\n",
    "Some entries have been modified with `FILL_IN_THE_BLANK` place holders which\n",
    "the user must modify to make the notebook cell work correctly\n",
    "\n",
    "Python dictionaries associate index objects (called keys) to mapped objects (called the value for the key).\n",
    "You can only use \"unchangeable\" objects as keys but anything can be a value (lists and other dictionaries,\n",
    "for example, cannot be keys).\n",
    "\n",
    "Dictionaries are useful beyond description.  Here is a simple and  instructive but useless example where we map numbers\n",
    "to their doubled values."
   ]
  },
  {
   "cell_type": "code",
   "execution_count": null,
   "metadata": {},
   "outputs": [],
   "source": [
    "double = {}  # make an empty Dictionary.\n",
    "\n",
    "for i in range(10):\n",
    "    double[i] = i * 2\n",
    "    \n",
    "double"
   ]
  },
  {
   "cell_type": "markdown",
   "metadata": {},
   "source": [
    "Dictionaries have \n",
    "<a href=\"https://docs.python.org/3/tutorial/datastructures.html#dictionaries\">many useful features:</a>"
   ]
  },
  {
   "cell_type": "code",
   "execution_count": null,
   "metadata": {},
   "outputs": [],
   "source": [
    "\n",
    "# Get a value for a key\n",
    "print (\"the double of\", 3, \"is\", double[3])\n",
    "\n",
    "# Iterate across all keys in a for loop:\n",
    "for key in double:\n",
    "    value = double[key]\n",
    "    print (\"   \", key, \"doubled is\", value)\n",
    "    \n",
    "# get lists of all keys and all values\n",
    "print (\"all keys\", list(double.keys()))\n",
    "print (\"all values\", list(double.values()))\n"
   ]
  },
  {
   "cell_type": "markdown",
   "metadata": {},
   "source": [
    "Of course the `double` example is silly because we can compute doubles easily\n",
    "without keeping dictionary mapping.\n",
    "\n",
    "It's more interesting to use dictionaries to store named records of information,\n",
    "for example, about people.  Consider the following list of list about people."
   ]
  },
  {
   "cell_type": "code",
   "execution_count": null,
   "metadata": {},
   "outputs": [],
   "source": [
    "Professionals = [\n",
    " ['Camille Kronkite', 'CA', 'Spy'],\n",
    " ['Camille Sajak', 'NY', 'Doctor'],\n",
    " ['Lionel Wold', 'CA', 'Soldier'],\n",
    " ['Minnie Badri', 'AK', 'Soldier'],\n",
    " ['Anna Feldhaus', 'CA', 'Doctor'],\n",
    " ['Carl Badri', 'AK', 'Doctor'],\n",
    " ['Anna Williams', 'NY', 'Tinker'],\n",
    " ['Lisa Kronkite', 'CA', 'Soldier'],\n",
    " ['Mickie Williams', 'FL', 'Tinker'],\n",
    " ['Jane Williams', 'CA', 'Spy'],\n",
    " ['Lionel Cordova', 'CA', 'Lawyer'],\n",
    " ['Alphonso Wold', 'CA', 'Spy'],\n",
    " ['Jim Gund', 'FL', 'Tailer'],\n",
    " ['Betty Wold', 'FL', 'Tailer'],\n",
    " ['Jane Badri', 'WA', 'Tailer'],\n",
    " ['Lisa Montreux', 'CA', 'Soldier'],\n",
    " ['Carl Montreux', 'AK', 'Tinker'],\n",
    " ['Ben Cordova', 'CA', 'Doctor'],\n",
    " ['Anna Neuhaus', 'CA', 'Soldier'],\n",
    " ['Kevin Neuhaus', 'CA', 'Lawyer'],\n",
    " ['Ben Kronkite', 'AK', 'Soldier'],\n",
    " ['Anna Kronkite', 'WA', 'Lawyer'],\n",
    " ['Kate Cordova', 'FL', 'Tinker'],\n",
    " ['Betty Sajak', 'CA', 'Soldier'],\n",
    " ['Mickie Neuhaus', 'FL', 'Tailer'],\n",
    " ['Jim Jacobs', 'AK', 'Lawyer'],\n",
    " ['Jane Kronkite', 'CA', 'Spy'],\n",
    " ['Minnie Jacobs', 'NY', 'Soldier'],\n",
    " ['Anna Montreux', 'WA', 'Tailer'],\n",
    " ['Ben Sajak', 'WA', 'Lawyer'],\n",
    " ['Mickie Kronkite', 'WA', 'Lawyer'],\n",
    " ['Minnie Sajak', 'NY', 'Doctor'],\n",
    " ['Mickie Feldhaus', 'NY', 'Doctor'],\n",
    " ['Minnie Kronkite', 'NY', 'Lawyer'],\n",
    " ['Mickie Wold', 'CA', 'Spy'],\n",
    " ['Lisa Jacobs', 'FL', 'Tinker']]"
   ]
  },
  {
   "cell_type": "markdown",
   "metadata": {},
   "source": [
    "Here `Professionals[3][0]` is a full name, `Professionals[3][1]` is a state abbreviation, \n",
    "and `Professionals[3][2]` is a profession.\n",
    "\n",
    "It is often useful to use strings to name record entries symbolically so we don't have to remember numbers"
   ]
  },
  {
   "cell_type": "code",
   "execution_count": null,
   "metadata": {},
   "outputs": [],
   "source": [
    "detail = Professionals[3]  # Minnie Badri\n",
    "record = {\"full name\": detail[0], \"state\": detail[1], \"profession\": detail[2]}\n",
    "record"
   ]
  },
  {
   "cell_type": "code",
   "execution_count": null,
   "metadata": {},
   "outputs": [],
   "source": [
    "# Now we can use symbolic names to get at the data about Minnie Badri\n",
    "record[\"full name\"] + \" works as a \" + FILL_IN_THE_BLANK"
   ]
  },
  {
   "cell_type": "code",
   "execution_count": null,
   "metadata": {},
   "outputs": [],
   "source": [
    "# We can also convert all the lists to dictionaries:\n",
    "Records = [FILL_IN_THE_BLANK for detail in Professionals]\n",
    "Records"
   ]
  },
  {
   "cell_type": "code",
   "execution_count": null,
   "metadata": {},
   "outputs": [],
   "source": [
    "# How can we make a dictionary which maps a full name to the record about that name?\n",
    "\n",
    "name_to_record = {}\n",
    "\n",
    "# For example this adds a mapping for Minnie Badri:\n",
    "name_to_record['Minnie Badri'] = Records[3]\n",
    "\n",
    "# How do you do all of them?\n",
    "for record in Records:\n",
    "    FILL_IN_THE_BLANK\n",
    "    \n",
    "name_to_record['Jane Kronkite']"
   ]
  },
  {
   "cell_type": "code",
   "execution_count": null,
   "metadata": {},
   "outputs": [],
   "source": [
    "name_to_record"
   ]
  },
  {
   "cell_type": "code",
   "execution_count": null,
   "metadata": {},
   "outputs": [],
   "source": [
    "# How do we look up the profession for 'Ben Sajak'?\n",
    "FILL_IN_THE_BLANK"
   ]
  },
  {
   "cell_type": "markdown",
   "metadata": {},
   "source": [
    "# Sets\n",
    "\n",
    "Sets in Python are collections of unchangeable values with duplicates removed -- and they act a lot\n",
    "like finite sets in ordinary mathematics.  Sets have many features, but for our immediate\n",
    "purposes you can make a set from a list, add items to a set, and convert a set to a list."
   ]
  },
  {
   "cell_type": "code",
   "execution_count": null,
   "metadata": {},
   "outputs": [],
   "source": [
    "# create a set from a list\n",
    "some_primes = set([2, 2, 3, 7, 5, 11, 19, 23, 19])\n",
    "# add an additional member\n",
    "some_primes.add(111)\n",
    "some_primes"
   ]
  },
  {
   "cell_type": "code",
   "execution_count": null,
   "metadata": {},
   "outputs": [],
   "source": [
    "prime_list = list(some_primes)\n",
    "prime_list"
   ]
  },
  {
   "cell_type": "markdown",
   "metadata": {},
   "source": [
    "When you convert a set to a list it is not guaranteed that the list is sorted,\n",
    "even though it often is by fluke."
   ]
  },
  {
   "cell_type": "code",
   "execution_count": null,
   "metadata": {},
   "outputs": [],
   "source": [
    "# How do you get a list of all professions from Records with duplicates removed?\n",
    "professions = set()\n",
    "for record in Records:\n",
    "    FILL_IN_THE_BLANK\n",
    "professions"
   ]
  },
  {
   "cell_type": "code",
   "execution_count": null,
   "metadata": {},
   "outputs": [],
   "source": [
    "# convert the set to a list and sort the list.\n",
    "profession_list = list(professions)\n",
    "profession_list.sort()\n",
    "profession_list"
   ]
  },
  {
   "cell_type": "code",
   "execution_count": null,
   "metadata": {},
   "outputs": [],
   "source": [
    "# How do you get a list of names all the doctors?\n",
    "doctors = set()\n",
    "for record in Records:\n",
    "    profession = record[\"profession\"]\n",
    "    if FILL_IN_THE_BLANK:\n",
    "        doctors.add(FILL_IN_THE_BLANK)\n",
    "doctors_list = sorted(list(doctors))\n",
    "doctors_list"
   ]
  },
  {
   "cell_type": "markdown",
   "metadata": {},
   "source": [
    "## Exercise\n",
    "\n",
    "**People by profession:** For each profession list the names of people in that profession\n",
    "from the data given, with the names in alphabetical order and also list the state for\n",
    "each person. It should produce a report which starts like this:\n",
    "\n",
    "<img src=\"people_by_profession.png\" width=\"400\">"
   ]
  },
  {
   "cell_type": "code",
   "execution_count": null,
   "metadata": {},
   "outputs": [],
   "source": [
    "FILL_IN_THE_BLANK"
   ]
  },
  {
   "cell_type": "code",
   "execution_count": null,
   "metadata": {},
   "outputs": [],
   "source": []
  }
 ],
 "metadata": {
  "kernelspec": {
   "display_name": "Python 3",
   "language": "python",
   "name": "python3"
  },
  "language_info": {
   "codemirror_mode": {
    "name": "ipython",
    "version": 3
   },
   "file_extension": ".py",
   "mimetype": "text/x-python",
   "name": "python",
   "nbconvert_exporter": "python",
   "pygments_lexer": "ipython3",
   "version": "3.6.8"
  }
 },
 "nbformat": 4,
 "nbformat_minor": 2
}
