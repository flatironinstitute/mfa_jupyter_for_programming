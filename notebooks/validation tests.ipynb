{
 "cells": [
  {
   "cell_type": "markdown",
   "metadata": {},
   "source": [
    "# Validation tests\n",
    "\n",
    "This notebook exercises features of the environment to make sure they work where they are running."
   ]
  },
  {
   "cell_type": "code",
   "execution_count": null,
   "metadata": {},
   "outputs": [],
   "source": [
    "# Make a line chart using matplotlib inline.\n",
    "import matplotlib.pyplot as plt\n",
    "\n",
    "%matplotlib inline\n",
    "\n",
    "import numpy as np\n",
    "\n",
    "# Prepare the data\n",
    "x = np.linspace(0, 10, 100)\n",
    "\n",
    "# Plot the data\n",
    "plt.plot(x, x, label='linear')\n",
    "\n",
    "# Add a legend\n",
    "plt.legend()\n",
    "\n",
    "# Show the plot\n",
    "plt.show()"
   ]
  },
  {
   "cell_type": "code",
   "execution_count": null,
   "metadata": {},
   "outputs": [],
   "source": [
    "# make a button widget\n",
    "import ipywidgets as widgets\n",
    "\n",
    "widgets.Button(\n",
    "    description='Click me',\n",
    "    disabled=False,\n",
    "    button_style='', # 'success', 'info', 'warning', 'danger' or ''\n",
    "    tooltip='Click me',\n",
    "    icon='check'\n",
    ")"
   ]
  },
  {
   "cell_type": "code",
   "execution_count": null,
   "metadata": {},
   "outputs": [],
   "source": [
    "# make a proxy widget\n",
    "import jp_proxy_widget\n",
    "\n",
    "greeter = jp_proxy_widget.JSProxyWidget()\n",
    "greeter.element.html(\"<h1>Hello world</h1>\")\n",
    "greeter.element.css(\"color\", \"magenta\")\n",
    "greeter.element.css(\"background-color\", \"blue\")\n",
    "greeter.element.width(200)\n",
    "greeter"
   ]
  },
  {
   "cell_type": "code",
   "execution_count": null,
   "metadata": {},
   "outputs": [],
   "source": [
    "# make a dual canvas\n",
    "from jp_doodle import dual_canvas\n",
    "demo = dual_canvas.DualCanvasWidget(width=320, height=220)\n",
    "\n",
    "demo.circle(x=0, y=0, r=100, color=\"#e99\")\n",
    "txt = demo.text(x=0, y=0, text=\"Hello World\", degrees=45, name=True,\n",
    "           font= \"40pt Arial\", color=\"#ee3\", background=\"#9e9\", align=\"center\", valign=\"center\")\n",
    "def on_click(*ignored):\n",
    "    txt.transition(text=\"That tickles\", degrees=720, color=\"#f90\", background=\"#009\", seconds_duration=5)\n",
    "    \n",
    "txt.on(\"click\", on_click)\n",
    "demo.fit()\n",
    "demo"
   ]
  },
  {
   "cell_type": "code",
   "execution_count": null,
   "metadata": {},
   "outputs": [],
   "source": []
  }
 ],
 "metadata": {
  "kernelspec": {
   "display_name": "Python 3",
   "language": "python",
   "name": "python3"
  },
  "language_info": {
   "codemirror_mode": {
    "name": "ipython",
    "version": 3
   },
   "file_extension": ".py",
   "mimetype": "text/x-python",
   "name": "python",
   "nbconvert_exporter": "python",
   "pygments_lexer": "ipython3",
   "version": "3.6.8"
  }
 },
 "nbformat": 4,
 "nbformat_minor": 2
}
