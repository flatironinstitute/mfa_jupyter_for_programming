{
 "cells": [
  {
   "cell_type": "code",
   "execution_count": null,
   "metadata": {},
   "outputs": [],
   "source": []
  },
  {
   "cell_type": "code",
   "execution_count": 1,
   "metadata": {},
   "outputs": [],
   "source": [
    "import numpy as np\n",
    "\n",
    "def xyz(x,y,z):\n",
    "    return np.array([x, y, z], dtype=np.float)"
   ]
  },
  {
   "cell_type": "code",
   "execution_count": 2,
   "metadata": {},
   "outputs": [
    {
     "data": {
      "text/plain": [
       "array([ 2. ,  0.4, -1. ])"
      ]
     },
     "execution_count": 2,
     "metadata": {},
     "output_type": "execute_result"
    }
   ],
   "source": [
    "X = xyz(1,0,0)\n",
    "Y = xyz(0,1,0)\n",
    "Z = xyz(0,0,1)\n",
    "O = xyz(0,0,0)\n",
    "o = list(O)\n",
    "2*X + 0.4*Y - Z"
   ]
  },
  {
   "cell_type": "code",
   "execution_count": 5,
   "metadata": {},
   "outputs": [
    {
     "data": {
      "application/vnd.jupyter.widget-view+json": {
       "model_id": "79b2b1cf8c584d2abdb40faedc964ebe",
       "version_major": 2,
       "version_minor": 0
      },
      "text/plain": [
       "DualCanvasWidget(status='Not yet rendered')"
      ]
     },
     "metadata": {},
     "output_type": "display_data"
    }
   ],
   "source": [
    "def square_face(frame, a, b, c):\n",
    "    A = list(a)\n",
    "    AB = list(a + b)\n",
    "    frame.text(A, \"A\")\n",
    "    frame.text(AB, \"A+B\")\n",
    "    frame.line(A, AB)\n",
    "    frame.line(A, o)\n",
    "    ABC = list(a + b + c)\n",
    "    frame.text(ABC, \"A+B+C\")\n",
    "    frame.line(AB, ABC)\n",
    "    points = [\n",
    "        a+b+c,\n",
    "        a+b-c,\n",
    "        a-b-c,\n",
    "        a-b+c\n",
    "    ]\n",
    "    frame.polygon(points, fill=False, color=\"green\")\n",
    "    frame.polygon(points, fill=True, color=\"rgba(200,0,200,0.2)\")\n",
    "    \n",
    "from jp_doodle.nd_frame import swatch3d\n",
    "frame = swatch3d()\n",
    "square_face(frame, Z, X, Y)\n",
    "frame.fit(0.7)\n",
    "frame.orbit_all(2)\n"
   ]
  },
  {
   "cell_type": "code",
   "execution_count": 4,
   "metadata": {},
   "outputs": [
    {
     "data": {
      "application/vnd.jupyter.widget-view+json": {
       "model_id": "3a7af8d3942443fea160950eae64a94a",
       "version_major": 2,
       "version_minor": 0
      },
      "text/plain": [
       "DualCanvasWidget(status='Not yet rendered')"
      ]
     },
     "metadata": {},
     "output_type": "display_data"
    }
   ],
   "source": [
    "from jp_doodle.nd_frame import swatch3d\n",
    "frame = swatch3d()\n",
    "square_face(frame, Z, X, Y)\n",
    "square_face(frame, X, Y, Z)\n",
    "square_face(frame, Y, Z, X)\n",
    "frame.fit(0.3)\n",
    "frame.orbit_all(2)"
   ]
  },
  {
   "cell_type": "code",
   "execution_count": null,
   "metadata": {},
   "outputs": [],
   "source": [
    "# Exercise: Draw a full cube"
   ]
  },
  {
   "cell_type": "code",
   "execution_count": null,
   "metadata": {},
   "outputs": [],
   "source": [
    "# Exercise: draw a pyramid with a square base"
   ]
  },
  {
   "cell_type": "code",
   "execution_count": null,
   "metadata": {},
   "outputs": [],
   "source": [
    "# Exercise: draw a square with pyramids poking out of each face each face"
   ]
  }
 ],
 "metadata": {
  "kernelspec": {
   "display_name": "Python 3",
   "language": "python",
   "name": "python3"
  },
  "language_info": {
   "codemirror_mode": {
    "name": "ipython",
    "version": 3
   },
   "file_extension": ".py",
   "mimetype": "text/x-python",
   "name": "python",
   "nbconvert_exporter": "python",
   "pygments_lexer": "ipython3",
   "version": "3.6.8"
  }
 },
 "nbformat": 4,
 "nbformat_minor": 2
}
