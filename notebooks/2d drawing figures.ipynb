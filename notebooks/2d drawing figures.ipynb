{
 "cells": [
  {
   "cell_type": "code",
   "execution_count": 25,
   "metadata": {},
   "outputs": [
    {
     "data": {
      "application/vnd.jupyter.widget-view+json": {
       "model_id": "156012fc0df6454b8102b24ce78f2faa",
       "version_major": 2,
       "version_minor": 0
      },
      "text/plain": [
       "DualCanvasWidget(status='Not yet rendered')"
      ]
     },
     "metadata": {},
     "output_type": "display_data"
    }
   ],
   "source": [
    "from jp_doodle.dual_canvas import swatch\n",
    "\n",
    "def Pythagorean_diagram(a, b, axis=False):\n",
    "    ab = a + b\n",
    "    offset = ab * 0.05\n",
    "    frame = swatch(model_height=ab)\n",
    "    frame.polygon([(0,0), (a,0), (0,b)], color=\"cyan\")\n",
    "    frame.polygon([(ab,0), (a,0), (ab,a)], color=\"yellow\")\n",
    "    frame.polygon([(0,ab), (0,b), (b,ab)], color=\"magenta\")\n",
    "    frame.polygon([(ab,ab), (b,ab), (ab,a)], color=\"orange\")\n",
    "    frame.polygon([(a,0), (0,b), (b, ab), (ab, a)], color=\"green\", \n",
    "                  fill=False, lineDash=[5,2,1], lineWidth=3)\n",
    "    frame.text(0.5 * a, - offset, \"A\", font=\"normal 20px Arial\")\n",
    "    frame.text(a + 0.5 * b, - offset, \"B\", font=\"normal 20px Arial\")\n",
    "    frame.text(-offset, 0.5 * b, \"B\", font=\"normal 20px Arial\")\n",
    "    frame.text(-offset, b + 0.5 * a, \"A\", font=\"normal 20px Arial\")\n",
    "    frame.text(0.5* a - offset, 0.5 * b - offset, \"C\", font=\"normal 20px Arial\")\n",
    "    frame.fit(margin=10)\n",
    "    if axis:\n",
    "        frame.lower_left_axes()\n",
    "    \n",
    "Pythagorean_diagram(2, 7)\n"
   ]
  },
  {
   "cell_type": "markdown",
   "metadata": {},
   "source": [
    "# Deriving the Pythagorean theorem from the diagram\n",
    "\n",
    "Symbolically what is the area of the cyan triangle?\n",
    "\n",
    "$$\n",
    "FILL IN THE BLANK\n",
    "$$\n",
    "\n",
    "What is the area of the 4 colorful triangles together?\n",
    "\n",
    "$$\n",
    "FILL IN THE BLANK\n",
    "$$\n",
    "\n",
    "What is the area of the big square (the triangles and the inner square)?\n",
    "\n",
    "$$\n",
    "FILL IN THE BLANK\n",
    "$$\n",
    "\n",
    "Use the last two expressions to derive the area of the region surrounded\n",
    "by dotted lines (also expressable as $C^2$.\n",
    "\n",
    "$$\n",
    "FILL IN THE BLANK\n",
    "$$"
   ]
  },
  {
   "cell_type": "code",
   "execution_count": null,
   "metadata": {},
   "outputs": [],
   "source": []
  }
 ],
 "metadata": {
  "kernelspec": {
   "display_name": "Python 3",
   "language": "python",
   "name": "python3"
  },
  "language_info": {
   "codemirror_mode": {
    "name": "ipython",
    "version": 3
   },
   "file_extension": ".py",
   "mimetype": "text/x-python",
   "name": "python",
   "nbconvert_exporter": "python",
   "pygments_lexer": "ipython3",
   "version": "3.6.8"
  }
 },
 "nbformat": 4,
 "nbformat_minor": 2
}
