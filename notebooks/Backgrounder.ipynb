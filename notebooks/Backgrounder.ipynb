{
 "cells": [
  {
   "cell_type": "markdown",
   "metadata": {},
   "source": [
    "# Background information\n",
    "\n",
    "This notebook provides some background information on\n",
    "material covered for the workshop.\n",
    "\n",
    "# Jupyter\n",
    "\n",
    "A tool for specifying, explaining, and documenting computations that is ever\n",
    "more widely used in science, academia, industry, and even just for fun.\n",
    "\n",
    "- A \"Read/eval/print\" loop (like a command line interface).\n",
    "- Organized as a \"narrative\" which can be repeated, editted, restarted, etcetera,\n",
    "- Allows in-line formatted explanatory text (Mark-up, HTML, formatted code fragments, Math: $ \\phi = \\Sigma_i^N f(i)^2 $)\n",
    "- Supports many \"language Kernels\" such as R, Julia, C++, Haskell, Javascript (we will use only Python here).\n",
    "\n",
    "## Uses\n",
    "\n",
    "- For specifying editable and repeatable computational workflows.\n",
    "- Experimental and exploratory data analysis.\n",
    "- Publishing scientific results such as the <a href=\"https://berkeley-stat159-f17.github.io/stat159-f17/lectures/08-ligo-make.html\">LIGO Gravitational Waves analysis</a>.\n",
    "- Explaining concepts and derivations.\n",
    "- It is sometimes used as a <a href=\"https://vis.tacc.utexas.edu\">preferred user interface to \n",
    "supercomputer clusters.</a>\n",
    "\n",
    "## Jupyter in education\n",
    "\n",
    "Jupyter is used extensively in formal and informal education mainly in industry and\n",
    "in college level and up.  For example the\n",
    "<a href=\"https://data.berkeley.edu/academics/resources/berkeley-data-stack\">UC Berkeley\n",
    "data science program</a> is organized around collections of Jupyter notebooks.\n",
    "\n",
    "## Python \n",
    "\n",
    "We will be using the Python Jupyter kernel (IPython) in this workshop because\n",
    "\n",
    "- It's easy to learn\n",
    "- It is the most fully featured Jupyter interface\n",
    "- It is commonly used in many scientific and machine learning.\n",
    "\n",
    "# Facilitator (me, Aaron Watters)\n",
    "\n",
    "I'm \n",
    "a senior software engineer at the Flatiron Institute of the Simons Foundation.  I works with scientists to develop visualizations, scientific workflows, and tools for scientific collaboration.\n",
    "I use Jupyter extensively in my work at Flatiron.\n",
    "\n",
    "I have a PhD in computer science from the University of Pennsylvania and I have\n",
    "extensive experience working as an engineer and consultant for start ups, for Wall Street and other industry,\n",
    "and for government agencies.\n"
   ]
  },
  {
   "cell_type": "code",
   "execution_count": null,
   "metadata": {},
   "outputs": [],
   "source": []
  }
 ],
 "metadata": {
  "kernelspec": {
   "display_name": "Python 3",
   "language": "python",
   "name": "python3"
  },
  "language_info": {
   "codemirror_mode": {
    "name": "ipython",
    "version": 3
   },
   "file_extension": ".py",
   "mimetype": "text/x-python",
   "name": "python",
   "nbconvert_exporter": "python",
   "pygments_lexer": "ipython3",
   "version": "3.6.8"
  }
 },
 "nbformat": 4,
 "nbformat_minor": 2
}
