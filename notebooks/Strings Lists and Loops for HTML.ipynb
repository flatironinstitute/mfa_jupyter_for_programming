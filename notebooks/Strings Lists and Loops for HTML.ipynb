{
 "cells": [
  {
   "cell_type": "markdown",
   "metadata": {},
   "source": [
    "# Strings, Lists, and Loops for HTML\n",
    "\n",
    "This notebook begins to introduce more complex data structures\n",
    "and how to manipulate them in Python programs.\n",
    "\n",
    "Here we will be looking at\n",
    "\n",
    "- Strings, used to represent text fragments.\n",
    "- Lists, used to organize data into sequences.\n",
    "- Loops, used to operate on each element of a data structure.\n",
    "\n",
    "The notebook is in two parts\n",
    "\n",
    "- In the first part all the code is given ready to execute.  This\n",
    "part introduces the concepts.\n",
    "\n",
    "- In the second part the code is given with `FILL_IN_THE_BLANK` placeholders where\n",
    "the user must apply the material introduced in the first part to complete the\n",
    "computational workflow,.\n",
    "\n",
    "# Introduction:  Parsing presidential information\n",
    "\n",
    "Let's look at manipulating some text strings obtained from\n",
    "<a href=\"https://www.presidentsusa.net/birth.html\">https://www.presidentsusa.net/birth.html</a>\n",
    "which lists information about the presidents.\n",
    "\n",
    "<img src=\"presidents.png\" width=\"600\">\n",
    "\n",
    "The goal of this exercise is to format information extracted in an HTML report\n",
    "in an automated fashion.  This is called \"web scraping\" and a lot of people\n",
    "do it full time.\n",
    "The first exercise is completed in the notebook.  After that the user\n",
    "is asked to solve a similar exercise by filling in the blanks.\n",
    "\n",
    "First look at the header for the information as a Python string."
   ]
  },
  {
   "cell_type": "code",
   "execution_count": 3,
   "metadata": {},
   "outputs": [
    {
     "name": "stdout",
     "output_type": "stream",
     "text": [
      "President \tBirth Date \tBirth Place \tDeath Date \tLocation of Death\n"
     ]
    }
   ],
   "source": [
    "headers_string = \"President \tBirth Date \tBirth Place \tDeath Date \tLocation of Death\"\n",
    "print (headers_string)"
   ]
  },
  {
   "cell_type": "code",
   "execution_count": 4,
   "metadata": {},
   "outputs": [
    {
     "data": {
      "text/plain": [
       "['President',\n",
       " 'Birth',\n",
       " 'Date',\n",
       " 'Birth',\n",
       " 'Place',\n",
       " 'Death',\n",
       " 'Date',\n",
       " 'Location',\n",
       " 'of',\n",
       " 'Death']"
      ]
     },
     "execution_count": 4,
     "metadata": {},
     "output_type": "execute_result"
    }
   ],
   "source": [
    "# The \"arrow\" shown in the string represents the TAB character which prints as blank space.\n",
    "\n",
    "# To use the headers in a program we need to break them out individually.  \n",
    "# The \"split\" function for a string will do this, but not without a hint of where to split:\n",
    "headers_string.split()"
   ]
  },
  {
   "cell_type": "code",
   "execution_count": 5,
   "metadata": {},
   "outputs": [
    {
     "data": {
      "text/plain": [
       "['President ',\n",
       " 'Birth Date ',\n",
       " 'Birth Place ',\n",
       " 'Death Date ',\n",
       " 'Location of Death']"
      ]
     },
     "execution_count": 5,
     "metadata": {},
     "output_type": "execute_result"
    }
   ],
   "source": [
    "# Here the split divided \"Birth Date\" into \"Birth\" and \"Date\".\n",
    "# To get the right words for each header together we need to split on the TAB character\n",
    "headers = headers_string.split(\"\\t\")\n",
    "\n",
    "# Now we have the header names stored as a list of strings in the variable named headers.\n",
    "headers"
   ]
  },
  {
   "cell_type": "code",
   "execution_count": 22,
   "metadata": {},
   "outputs": [
    {
     "name": "stdout",
     "output_type": "stream",
     "text": [
      "the first header is President \n",
      "the second header is Birth Date \n",
      "the last header is Location of Death\n",
      "the first two headers are ['President ', 'Birth Date ']\n",
      "the fourth to the last header are ['Death Date ', 'Location of Death']\n",
      "there are 5 headers\n",
      "Here are the headers:\n",
      "  here's one: President \n",
      "  here's one: Birth Date \n",
      "  here's one: Birth Place \n",
      "  here's one: Death Date \n",
      "  here's one: Location of Death\n",
      "    President  lives at index 0\n",
      "    Birth Date  lives at index 1\n",
      "    Birth Place  lives at index 2\n",
      "    Death Date  lives at index 3\n",
      "    Location of Death lives at index 4\n"
     ]
    }
   ],
   "source": [
    "# Below we demonstrate some useful methods for lists using the headers.\n",
    "\n",
    "# indexing:\n",
    "print (\"the first header is\", headers[0])\n",
    "print (\"the second header is\", headers[1])\n",
    "print (\"the last header is\", headers[-1])\n",
    "\n",
    "# slicing\n",
    "print (\"the first two headers are\", headers[:2])\n",
    "print (\"the fourth to the last header are\", headers[3:])\n",
    "\n",
    "# length\n",
    "print (\"there are\", len(headers), \"headers\")\n",
    "\n",
    "# simple looping\n",
    "print(\"Here are the headers:\")\n",
    "for header in headers:\n",
    "    print (\"  here's one:\", header)\n",
    "\n",
    "# enumeration in looping\n",
    "for (index, header) in enumerate(headers):\n",
    "    print (\"   \", header, \"lives at index\", index)\n",
    "    \n",
    "# and there are many more."
   ]
  },
  {
   "cell_type": "code",
   "execution_count": 6,
   "metadata": {},
   "outputs": [
    {
     "name": "stdout",
     "output_type": "stream",
     "text": [
      "  \n",
      "George Washington \tFeb 22, 1732 \tWestmoreland Co., Va. \tDec 14, 1799 \tMount Vernon, Va.\n",
      "John Adams \tOct 30, 1735 \tQuincy, Mass. \tJuly 4, 1826 \tQuincy, Mass.\n",
      "Thomas Jefferson \tApr 13, 1743 \tAlbemarle Co., Va. \tJuly 4, 1826 \tAlbemarle Co., Va.\n",
      "  \n"
     ]
    },
    {
     "data": {
      "text/plain": [
       "'  \\nGeorge Washington \\tFeb 22, 1732 \\tWestmoreland Co., Va. \\tDec 14, 1799 \\tMount Vernon, Va.\\nJohn Adams \\tOct 30, 1735 \\tQuincy, Mass. \\tJuly 4, 1826 \\tQuincy, Mass.\\nThomas Jefferson \\tApr 13, 1743 \\tAlbemarle Co., Va. \\tJuly 4, 1826 \\tAlbemarle Co., Va.\\n  '"
      ]
     },
     "execution_count": 6,
     "metadata": {},
     "output_type": "execute_result"
    }
   ],
   "source": [
    "# Now look at some data extracted from the web site.\n",
    "\n",
    "# To save some space I only captured the first 3 entries, but the \n",
    "# automated methods we will develop could work on all of the data\n",
    "# (and also on much bigger data sets) automatically.\n",
    "\n",
    "data_string = \"\"\"  \n",
    "George Washington \tFeb 22, 1732 \tWestmoreland Co., Va. \tDec 14, 1799 \tMount Vernon, Va.\n",
    "John Adams \tOct 30, 1735 \tQuincy, Mass. \tJuly 4, 1826 \tQuincy, Mass.\n",
    "Thomas Jefferson \tApr 13, 1743 \tAlbemarle Co., Va. \tJuly 4, 1826 \tAlbemarle Co., Va.\n",
    "  \"\"\"\n",
    "print(data_string)\n",
    "data_string"
   ]
  },
  {
   "cell_type": "code",
   "execution_count": 7,
   "metadata": {},
   "outputs": [
    {
     "data": {
      "text/plain": [
       "'George Washington \\tFeb 22, 1732 \\tWestmoreland Co., Va. \\tDec 14, 1799 \\tMount Vernon, Va.\\nJohn Adams \\tOct 30, 1735 \\tQuincy, Mass. \\tJuly 4, 1826 \\tQuincy, Mass.\\nThomas Jefferson \\tApr 13, 1743 \\tAlbemarle Co., Va. \\tJuly 4, 1826 \\tAlbemarle Co., Va.'"
      ]
     },
     "execution_count": 7,
     "metadata": {},
     "output_type": "execute_result"
    }
   ],
   "source": [
    "# When we \"print\" the string we see separate lines but when\n",
    "# We view the string \"value\" we see all of the characters including the \"newline\"\n",
    "# character \"\\n\" which separates lines.\n",
    "\n",
    "# The first thing to notice is that there is \"extra junk whitespace\"\n",
    "# at the beginning and end of the string.  We can strip that using the strip method.\n",
    "data_string = data_string.strip()\n",
    "data_string"
   ]
  },
  {
   "cell_type": "code",
   "execution_count": 8,
   "metadata": {},
   "outputs": [
    {
     "data": {
      "text/plain": [
       "['President', 'Birth Date', 'Birth Place', 'Death Date', 'Location of Death']"
      ]
     },
     "execution_count": 8,
     "metadata": {},
     "output_type": "execute_result"
    }
   ],
   "source": [
    "# In fact let's strip the extra white space to all of the headers too\n",
    "# using a \"list comprehension\" which calls strip for each of the header strings:\n",
    "\n",
    "header_strings = [header.strip() for header in headers]\n",
    "header_strings"
   ]
  },
  {
   "cell_type": "code",
   "execution_count": 9,
   "metadata": {},
   "outputs": [
    {
     "data": {
      "text/plain": [
       "['George Washington \\tFeb 22, 1732 \\tWestmoreland Co., Va. \\tDec 14, 1799 \\tMount Vernon, Va.',\n",
       " 'John Adams \\tOct 30, 1735 \\tQuincy, Mass. \\tJuly 4, 1826 \\tQuincy, Mass.',\n",
       " 'Thomas Jefferson \\tApr 13, 1743 \\tAlbemarle Co., Va. \\tJuly 4, 1826 \\tAlbemarle Co., Va.']"
      ]
     },
     "execution_count": 9,
     "metadata": {},
     "output_type": "execute_result"
    }
   ],
   "source": [
    "# Each of the \"President\" records is separated from the others by a newline.\n",
    "# Again \"split\" on newline will break them out into separate substrings.\n",
    "\n",
    "data_substrings = data_string.split(\"\\n\")\n",
    "data_substrings"
   ]
  },
  {
   "cell_type": "code",
   "execution_count": 13,
   "metadata": {},
   "outputs": [
    {
     "data": {
      "text/plain": [
       "['George Washington ',\n",
       " 'Feb 22, 1732 ',\n",
       " 'Westmoreland Co., Va. ',\n",
       " 'Dec 14, 1799 ',\n",
       " 'Mount Vernon, Va.']"
      ]
     },
     "execution_count": 13,
     "metadata": {},
     "output_type": "execute_result"
    }
   ],
   "source": [
    "# To break the first substring into individual values corresponding to each header split on TAB\n",
    "first_substring = data_substrings[0]\n",
    "first_substring.split(\"\\t\")"
   ]
  },
  {
   "cell_type": "code",
   "execution_count": 14,
   "metadata": {},
   "outputs": [
    {
     "data": {
      "text/plain": [
       "[['George Washington ',\n",
       "  'Feb 22, 1732 ',\n",
       "  'Westmoreland Co., Va. ',\n",
       "  'Dec 14, 1799 ',\n",
       "  'Mount Vernon, Va.'],\n",
       " ['John Adams ',\n",
       "  'Oct 30, 1735 ',\n",
       "  'Quincy, Mass. ',\n",
       "  'July 4, 1826 ',\n",
       "  'Quincy, Mass.'],\n",
       " ['Thomas Jefferson ',\n",
       "  'Apr 13, 1743 ',\n",
       "  'Albemarle Co., Va. ',\n",
       "  'July 4, 1826 ',\n",
       "  'Albemarle Co., Va.']]"
      ]
     },
     "execution_count": 14,
     "metadata": {},
     "output_type": "execute_result"
    }
   ],
   "source": [
    "# We can split *all* of the substrings using a list comprehension\n",
    "data_lists = [substring.split(\"\\t\") for substring in data_substrings]\n",
    "data_lists"
   ]
  },
  {
   "cell_type": "code",
   "execution_count": 18,
   "metadata": {},
   "outputs": [
    {
     "name": "stdout",
     "output_type": "stream",
     "text": [
      "\n",
      "President  : George Washington \n",
      "Birth Date  : Feb 22, 1732 \n",
      "Birth Place  : Westmoreland Co., Va. \n",
      "Death Date  : Dec 14, 1799 \n",
      "Location of Death : Mount Vernon, Va.\n",
      "\n",
      "President  : John Adams \n",
      "Birth Date  : Oct 30, 1735 \n",
      "Birth Place  : Quincy, Mass. \n",
      "Death Date  : July 4, 1826 \n",
      "Location of Death : Quincy, Mass.\n",
      "\n",
      "President  : Thomas Jefferson \n",
      "Birth Date  : Apr 13, 1743 \n",
      "Birth Place  : Albemarle Co., Va. \n",
      "Death Date  : July 4, 1826 \n",
      "Location of Death : Albemarle Co., Va.\n"
     ]
    }
   ],
   "source": [
    "# Now we have the headers and several records all broken out as values.\n",
    "# There are better and fancier ways to do this, but below I use indexing\n",
    "# and looping to print the headers together with the individual records\n",
    "\n",
    "for data_list in data_lists:\n",
    "    print() # blank line to separate records\n",
    "    for (index, header) in enumerate(headers):\n",
    "        value = data_list[index]\n",
    "        print (header, \":\", value)"
   ]
  },
  {
   "cell_type": "code",
   "execution_count": 46,
   "metadata": {},
   "outputs": [
    {
     "name": "stdout",
     "output_type": "stream",
     "text": [
      "<br/>\n",
      "<b> President : </b> <em>George Washington </em> <br/>\n",
      "<b> Birth Date : </b> <em>Feb 22, 1732 </em> <br/>\n",
      "<b> Birth Place : </b> <em>Westmoreland Co., Va. </em> <br/>\n",
      "<b> Death Date : </b> <em>Dec 14, 1799 </em> <br/>\n",
      "<b> Location of Death: </b> <em>Mount Vernon, Va.</em> <br/>\n",
      "<br/>\n",
      "<b> President : </b> <em>John Adams </em> <br/>\n",
      "<b> Birth Date : </b> <em>Oct 30, 1735 </em> <br/>\n",
      "<b> Birth Place : </b> <em>Quincy, Mass. </em> <br/>\n",
      "<b> Death Date : </b> <em>July 4, 1826 </em> <br/>\n",
      "<b> Location of Death: </b> <em>Quincy, Mass.</em> <br/>\n",
      "<br/>\n",
      "<b> President : </b> <em>Thomas Jefferson </em> <br/>\n",
      "<b> Birth Date : </b> <em>Apr 13, 1743 </em> <br/>\n",
      "<b> Birth Place : </b> <em>Albemarle Co., Va. </em> <br/>\n",
      "<b> Death Date : </b> <em>July 4, 1826 </em> <br/>\n",
      "<b> Location of Death: </b> <em>Albemarle Co., Va.</em> <br/>\n"
     ]
    }
   ],
   "source": [
    "# Embed as HTML\n",
    "HTML_List = []\n",
    "for data_list in data_lists:\n",
    "    HTML_List.append(\"<br/>\")  # blank line\n",
    "    for (index, header) in enumerate(headers):\n",
    "        value = data_list[index]\n",
    "        element = \"<b> %s: </b> <em>%s</em> <br/>\" % (header, value)\n",
    "        HTML_List.append(element)\n",
    "HTML_string = \"\\n\".join(HTML_List)\n",
    "print(HTML_string)"
   ]
  },
  {
   "cell_type": "code",
   "execution_count": 47,
   "metadata": {},
   "outputs": [
    {
     "data": {
      "text/html": [
       "<br/>\n",
       "<b> President : </b> <em>George Washington </em> <br/>\n",
       "<b> Birth Date : </b> <em>Feb 22, 1732 </em> <br/>\n",
       "<b> Birth Place : </b> <em>Westmoreland Co., Va. </em> <br/>\n",
       "<b> Death Date : </b> <em>Dec 14, 1799 </em> <br/>\n",
       "<b> Location of Death: </b> <em>Mount Vernon, Va.</em> <br/>\n",
       "<br/>\n",
       "<b> President : </b> <em>John Adams </em> <br/>\n",
       "<b> Birth Date : </b> <em>Oct 30, 1735 </em> <br/>\n",
       "<b> Birth Place : </b> <em>Quincy, Mass. </em> <br/>\n",
       "<b> Death Date : </b> <em>July 4, 1826 </em> <br/>\n",
       "<b> Location of Death: </b> <em>Quincy, Mass.</em> <br/>\n",
       "<br/>\n",
       "<b> President : </b> <em>Thomas Jefferson </em> <br/>\n",
       "<b> Birth Date : </b> <em>Apr 13, 1743 </em> <br/>\n",
       "<b> Birth Place : </b> <em>Albemarle Co., Va. </em> <br/>\n",
       "<b> Death Date : </b> <em>July 4, 1826 </em> <br/>\n",
       "<b> Location of Death: </b> <em>Albemarle Co., Va.</em> <br/>"
      ],
      "text/plain": [
       "<IPython.core.display.HTML object>"
      ]
     },
     "metadata": {},
     "output_type": "display_data"
    }
   ],
   "source": [
    "from IPython.display import HTML, display\n",
    "display(HTML(HTML_string))"
   ]
  },
  {
   "cell_type": "markdown",
   "metadata": {},
   "source": [
    "# Exercise: 4 columns to 2 columns to HTML\n",
    "\n",
    "The following string is pasted from https://state.1keydata.com/state-capitals.php\n",
    "\n",
    "<img src=\"capitals.png\" width=\"500\"/>\n",
    "\n",
    "The goal of the exercise is to parse out the state/capital pairs and print\n",
    "out the states and capitals in a formatted report that looks something like\n",
    "this:\n",
    "\n",
    "<img src=\"states_report.png\" width=\"400\"/>"
   ]
  },
  {
   "cell_type": "code",
   "execution_count": 43,
   "metadata": {},
   "outputs": [],
   "source": [
    "State_Capitals_strings = \"\"\"\n",
    "US State \tState Capital \tUS State \tState Capital\n",
    "Alabama \tMontgomery \tMontana \tHelena\n",
    "Alaska \tJuneau \tNebraska \tLincoln\n",
    "Arizona \tPhoenix \tNevada \tCarson City\n",
    "Arkansas \tLittle Rock \tNew Hampshire \tConcord\n",
    "California \tSacramento \tNew Jersey \tTrenton\n",
    "Colorado \tDenver \tNew Mexico \tSanta Fe\n",
    "Connecticut \tHartford \tNew York \tAlbany\n",
    "Delaware \tDover \tNorth Carolina \tRaleigh\n",
    "Florida \tTallahassee \tNorth Dakota \tBismarck\n",
    "Georgia \tAtlanta \tOhio \tColumbus\n",
    "Hawaii \tHonolulu \tOklahoma \tOklahoma City\n",
    "Idaho \tBoise \tOregon \tSalem\n",
    "Illinois \tSpringfield \tPennsylvania \tHarrisburg\n",
    "Indiana \tIndianapolis \tRhode Island \tProvidence\n",
    "Iowa \tDes Moines \tSouth Carolina \tColumbia\n",
    "Kansas \tTopeka \tSouth Dakota \tPierre\n",
    "Kentucky \tFrankfort \tTennessee \tNashville\n",
    "Louisiana \tBaton Rouge \tTexas \tAustin\n",
    "Maine \tAugusta \tUtah \tSalt Lake City\n",
    "Maryland \tAnnapolis \tVermont \tMontpelier\n",
    "Massachusetts \tBoston \tVirginia \tRichmond\n",
    "Michigan \tLansing \tWashington \tOlympia\n",
    "Minnesota \tSt. Paul \tWest Virginia \tCharleston\n",
    "Mississippi \tJackson \tWisconsin \tMadison\n",
    "Missouri \tJefferson City \tWyoming \tCheyenne\n",
    "\"\"\""
   ]
  },
  {
   "cell_type": "code",
   "execution_count": 25,
   "metadata": {},
   "outputs": [],
   "source": [
    "# get rid if surrounding whitespace\n",
    "State_Capitals_strings = FILL_IN_THE_BLANK"
   ]
  },
  {
   "cell_type": "code",
   "execution_count": 26,
   "metadata": {},
   "outputs": [
    {
     "data": {
      "text/plain": [
       "['US State \\tState Capital \\tUS State \\tState Capital',\n",
       " 'Alabama \\tMontgomery \\tMontana \\tHelena',\n",
       " 'Alaska \\tJuneau \\tNebraska \\tLincoln',\n",
       " 'Arizona \\tPhoenix \\tNevada \\tCarson City',\n",
       " 'Arkansas \\tLittle Rock \\tNew Hampshire \\tConcord',\n",
       " 'California \\tSacramento \\tNew Jersey \\tTrenton',\n",
       " 'Colorado \\tDenver \\tNew Mexico \\tSanta Fe',\n",
       " 'Connecticut \\tHartford \\tNew York \\tAlbany',\n",
       " 'Delaware \\tDover \\tNorth Carolina \\tRaleigh',\n",
       " 'Florida \\tTallahassee \\tNorth Dakota \\tBismarck',\n",
       " 'Georgia \\tAtlanta \\tOhio \\tColumbus',\n",
       " 'Hawaii \\tHonolulu \\tOklahoma \\tOklahoma City',\n",
       " 'Idaho \\tBoise \\tOregon \\tSalem',\n",
       " 'Illinois \\tSpringfield \\tPennsylvania \\tHarrisburg',\n",
       " 'Indiana \\tIndianapolis \\tRhode Island \\tProvidence',\n",
       " 'Iowa \\tDes Moines \\tSouth Carolina \\tColumbia',\n",
       " 'Kansas \\tTopeka \\tSouth Dakota \\tPierre',\n",
       " 'Kentucky \\tFrankfort \\tTennessee \\tNashville',\n",
       " 'Louisiana \\tBaton Rouge \\tTexas \\tAustin',\n",
       " 'Maine \\tAugusta \\tUtah \\tSalt Lake City',\n",
       " 'Maryland \\tAnnapolis \\tVermont \\tMontpelier',\n",
       " 'Massachusetts \\tBoston \\tVirginia \\tRichmond',\n",
       " 'Michigan \\tLansing \\tWashington \\tOlympia',\n",
       " 'Minnesota \\tSt. Paul \\tWest Virginia \\tCharleston',\n",
       " 'Mississippi \\tJackson \\tWisconsin \\tMadison',\n",
       " 'Missouri \\tJefferson City \\tWyoming \\tCheyenne']"
      ]
     },
     "execution_count": 26,
     "metadata": {},
     "output_type": "execute_result"
    }
   ],
   "source": [
    "# Split into lines\n",
    "State_Capitals_lines = FILL_IN_THE_BLANK\n",
    "State_Capitals_lines"
   ]
  },
  {
   "cell_type": "code",
   "execution_count": 28,
   "metadata": {},
   "outputs": [
    {
     "data": {
      "text/plain": [
       "[['US State ', 'State Capital ', 'US State ', 'State Capital'],\n",
       " ['Alabama ', 'Montgomery ', 'Montana ', 'Helena'],\n",
       " ['Alaska ', 'Juneau ', 'Nebraska ', 'Lincoln'],\n",
       " ['Arizona ', 'Phoenix ', 'Nevada ', 'Carson City'],\n",
       " ['Arkansas ', 'Little Rock ', 'New Hampshire ', 'Concord'],\n",
       " ['California ', 'Sacramento ', 'New Jersey ', 'Trenton'],\n",
       " ['Colorado ', 'Denver ', 'New Mexico ', 'Santa Fe'],\n",
       " ['Connecticut ', 'Hartford ', 'New York ', 'Albany'],\n",
       " ['Delaware ', 'Dover ', 'North Carolina ', 'Raleigh'],\n",
       " ['Florida ', 'Tallahassee ', 'North Dakota ', 'Bismarck'],\n",
       " ['Georgia ', 'Atlanta ', 'Ohio ', 'Columbus'],\n",
       " ['Hawaii ', 'Honolulu ', 'Oklahoma ', 'Oklahoma City'],\n",
       " ['Idaho ', 'Boise ', 'Oregon ', 'Salem'],\n",
       " ['Illinois ', 'Springfield ', 'Pennsylvania ', 'Harrisburg'],\n",
       " ['Indiana ', 'Indianapolis ', 'Rhode Island ', 'Providence'],\n",
       " ['Iowa ', 'Des Moines ', 'South Carolina ', 'Columbia'],\n",
       " ['Kansas ', 'Topeka ', 'South Dakota ', 'Pierre'],\n",
       " ['Kentucky ', 'Frankfort ', 'Tennessee ', 'Nashville'],\n",
       " ['Louisiana ', 'Baton Rouge ', 'Texas ', 'Austin'],\n",
       " ['Maine ', 'Augusta ', 'Utah ', 'Salt Lake City'],\n",
       " ['Maryland ', 'Annapolis ', 'Vermont ', 'Montpelier'],\n",
       " ['Massachusetts ', 'Boston ', 'Virginia ', 'Richmond'],\n",
       " ['Michigan ', 'Lansing ', 'Washington ', 'Olympia'],\n",
       " ['Minnesota ', 'St. Paul ', 'West Virginia ', 'Charleston'],\n",
       " ['Mississippi ', 'Jackson ', 'Wisconsin ', 'Madison'],\n",
       " ['Missouri ', 'Jefferson City ', 'Wyoming ', 'Cheyenne']]"
      ]
     },
     "execution_count": 28,
     "metadata": {},
     "output_type": "execute_result"
    }
   ],
   "source": [
    "# Split lines into lists\n",
    "FILL_IN_THE_BLANK\n",
    "State_capital_lists"
   ]
  },
  {
   "cell_type": "code",
   "execution_count": 30,
   "metadata": {},
   "outputs": [
    {
     "data": {
      "text/plain": [
       "['US State ', 'State Capital ', 'US State ', 'State Capital']"
      ]
     },
     "execution_count": 30,
     "metadata": {},
     "output_type": "execute_result"
    }
   ],
   "source": [
    "# Get the headers list\n",
    "state_headers = FILL_IN_THE_BLANK\n",
    "# Get the data lists\n",
    "state_data_lists = FILL_IN_THE_BLANK\n",
    "state_headers"
   ]
  },
  {
   "cell_type": "code",
   "execution_count": 31,
   "metadata": {},
   "outputs": [
    {
     "data": {
      "text/plain": [
       "[['Alabama ', 'Montgomery ', 'Montana ', 'Helena'],\n",
       " ['Alaska ', 'Juneau ', 'Nebraska ', 'Lincoln'],\n",
       " ['Arizona ', 'Phoenix ', 'Nevada ', 'Carson City'],\n",
       " ['Arkansas ', 'Little Rock ', 'New Hampshire ', 'Concord'],\n",
       " ['California ', 'Sacramento ', 'New Jersey ', 'Trenton'],\n",
       " ['Colorado ', 'Denver ', 'New Mexico ', 'Santa Fe'],\n",
       " ['Connecticut ', 'Hartford ', 'New York ', 'Albany'],\n",
       " ['Delaware ', 'Dover ', 'North Carolina ', 'Raleigh'],\n",
       " ['Florida ', 'Tallahassee ', 'North Dakota ', 'Bismarck'],\n",
       " ['Georgia ', 'Atlanta ', 'Ohio ', 'Columbus'],\n",
       " ['Hawaii ', 'Honolulu ', 'Oklahoma ', 'Oklahoma City'],\n",
       " ['Idaho ', 'Boise ', 'Oregon ', 'Salem'],\n",
       " ['Illinois ', 'Springfield ', 'Pennsylvania ', 'Harrisburg'],\n",
       " ['Indiana ', 'Indianapolis ', 'Rhode Island ', 'Providence'],\n",
       " ['Iowa ', 'Des Moines ', 'South Carolina ', 'Columbia'],\n",
       " ['Kansas ', 'Topeka ', 'South Dakota ', 'Pierre'],\n",
       " ['Kentucky ', 'Frankfort ', 'Tennessee ', 'Nashville'],\n",
       " ['Louisiana ', 'Baton Rouge ', 'Texas ', 'Austin'],\n",
       " ['Maine ', 'Augusta ', 'Utah ', 'Salt Lake City'],\n",
       " ['Maryland ', 'Annapolis ', 'Vermont ', 'Montpelier'],\n",
       " ['Massachusetts ', 'Boston ', 'Virginia ', 'Richmond'],\n",
       " ['Michigan ', 'Lansing ', 'Washington ', 'Olympia'],\n",
       " ['Minnesota ', 'St. Paul ', 'West Virginia ', 'Charleston'],\n",
       " ['Mississippi ', 'Jackson ', 'Wisconsin ', 'Madison'],\n",
       " ['Missouri ', 'Jefferson City ', 'Wyoming ', 'Cheyenne']]"
      ]
     },
     "execution_count": 31,
     "metadata": {},
     "output_type": "execute_result"
    }
   ],
   "source": [
    "state_data_lists"
   ]
  },
  {
   "cell_type": "code",
   "execution_count": 32,
   "metadata": {},
   "outputs": [
    {
     "data": {
      "text/plain": [
       "[['Alabama ', 'Montgomery '],\n",
       " ['Alaska ', 'Juneau '],\n",
       " ['Arizona ', 'Phoenix '],\n",
       " ['Arkansas ', 'Little Rock '],\n",
       " ['California ', 'Sacramento '],\n",
       " ['Colorado ', 'Denver '],\n",
       " ['Connecticut ', 'Hartford '],\n",
       " ['Delaware ', 'Dover '],\n",
       " ['Florida ', 'Tallahassee '],\n",
       " ['Georgia ', 'Atlanta '],\n",
       " ['Hawaii ', 'Honolulu '],\n",
       " ['Idaho ', 'Boise '],\n",
       " ['Illinois ', 'Springfield '],\n",
       " ['Indiana ', 'Indianapolis '],\n",
       " ['Iowa ', 'Des Moines '],\n",
       " ['Kansas ', 'Topeka '],\n",
       " ['Kentucky ', 'Frankfort '],\n",
       " ['Louisiana ', 'Baton Rouge '],\n",
       " ['Maine ', 'Augusta '],\n",
       " ['Maryland ', 'Annapolis '],\n",
       " ['Massachusetts ', 'Boston '],\n",
       " ['Michigan ', 'Lansing '],\n",
       " ['Minnesota ', 'St. Paul '],\n",
       " ['Mississippi ', 'Jackson '],\n",
       " ['Missouri ', 'Jefferson City ']]"
      ]
     },
     "execution_count": 32,
     "metadata": {},
     "output_type": "execute_result"
    }
   ],
   "source": [
    "# Get the first two columns\n",
    "cols1_2 = [L[:2] for L in state_data_lists]\n",
    "cols1_2"
   ]
  },
  {
   "cell_type": "code",
   "execution_count": 34,
   "metadata": {},
   "outputs": [
    {
     "data": {
      "text/plain": [
       "[['Montana ', 'Helena'],\n",
       " ['Nebraska ', 'Lincoln'],\n",
       " ['Nevada ', 'Carson City'],\n",
       " ['New Hampshire ', 'Concord'],\n",
       " ['New Jersey ', 'Trenton'],\n",
       " ['New Mexico ', 'Santa Fe'],\n",
       " ['New York ', 'Albany'],\n",
       " ['North Carolina ', 'Raleigh'],\n",
       " ['North Dakota ', 'Bismarck'],\n",
       " ['Ohio ', 'Columbus'],\n",
       " ['Oklahoma ', 'Oklahoma City'],\n",
       " ['Oregon ', 'Salem'],\n",
       " ['Pennsylvania ', 'Harrisburg'],\n",
       " ['Rhode Island ', 'Providence'],\n",
       " ['South Carolina ', 'Columbia'],\n",
       " ['South Dakota ', 'Pierre'],\n",
       " ['Tennessee ', 'Nashville'],\n",
       " ['Texas ', 'Austin'],\n",
       " ['Utah ', 'Salt Lake City'],\n",
       " ['Vermont ', 'Montpelier'],\n",
       " ['Virginia ', 'Richmond'],\n",
       " ['Washington ', 'Olympia'],\n",
       " ['West Virginia ', 'Charleston'],\n",
       " ['Wisconsin ', 'Madison'],\n",
       " ['Wyoming ', 'Cheyenne']]"
      ]
     },
     "execution_count": 34,
     "metadata": {},
     "output_type": "execute_result"
    }
   ],
   "source": [
    "# Get the last two columns\n",
    "cols3_4 = FILL_IN_THE_BLANK\n",
    "cols3_4"
   ]
  },
  {
   "cell_type": "code",
   "execution_count": 35,
   "metadata": {},
   "outputs": [
    {
     "data": {
      "text/plain": [
       "[['Alabama ', 'Montgomery '],\n",
       " ['Alaska ', 'Juneau '],\n",
       " ['Arizona ', 'Phoenix '],\n",
       " ['Arkansas ', 'Little Rock '],\n",
       " ['California ', 'Sacramento '],\n",
       " ['Colorado ', 'Denver '],\n",
       " ['Connecticut ', 'Hartford '],\n",
       " ['Delaware ', 'Dover '],\n",
       " ['Florida ', 'Tallahassee '],\n",
       " ['Georgia ', 'Atlanta '],\n",
       " ['Hawaii ', 'Honolulu '],\n",
       " ['Idaho ', 'Boise '],\n",
       " ['Illinois ', 'Springfield '],\n",
       " ['Indiana ', 'Indianapolis '],\n",
       " ['Iowa ', 'Des Moines '],\n",
       " ['Kansas ', 'Topeka '],\n",
       " ['Kentucky ', 'Frankfort '],\n",
       " ['Louisiana ', 'Baton Rouge '],\n",
       " ['Maine ', 'Augusta '],\n",
       " ['Maryland ', 'Annapolis '],\n",
       " ['Massachusetts ', 'Boston '],\n",
       " ['Michigan ', 'Lansing '],\n",
       " ['Minnesota ', 'St. Paul '],\n",
       " ['Mississippi ', 'Jackson '],\n",
       " ['Missouri ', 'Jefferson City '],\n",
       " ['Montana ', 'Helena'],\n",
       " ['Nebraska ', 'Lincoln'],\n",
       " ['Nevada ', 'Carson City'],\n",
       " ['New Hampshire ', 'Concord'],\n",
       " ['New Jersey ', 'Trenton'],\n",
       " ['New Mexico ', 'Santa Fe'],\n",
       " ['New York ', 'Albany'],\n",
       " ['North Carolina ', 'Raleigh'],\n",
       " ['North Dakota ', 'Bismarck'],\n",
       " ['Ohio ', 'Columbus'],\n",
       " ['Oklahoma ', 'Oklahoma City'],\n",
       " ['Oregon ', 'Salem'],\n",
       " ['Pennsylvania ', 'Harrisburg'],\n",
       " ['Rhode Island ', 'Providence'],\n",
       " ['South Carolina ', 'Columbia'],\n",
       " ['South Dakota ', 'Pierre'],\n",
       " ['Tennessee ', 'Nashville'],\n",
       " ['Texas ', 'Austin'],\n",
       " ['Utah ', 'Salt Lake City'],\n",
       " ['Vermont ', 'Montpelier'],\n",
       " ['Virginia ', 'Richmond'],\n",
       " ['Washington ', 'Olympia'],\n",
       " ['West Virginia ', 'Charleston'],\n",
       " ['Wisconsin ', 'Madison'],\n",
       " ['Wyoming ', 'Cheyenne']]"
      ]
     },
     "execution_count": 35,
     "metadata": {},
     "output_type": "execute_result"
    }
   ],
   "source": [
    "# Put all pairs together\n",
    "all_pairs = cols3_4 + cols1_2\n",
    "\n",
    "# Sort by state names\n",
    "all_pairs = sorted(all_pairs)\n",
    "\n",
    "all_pairs"
   ]
  },
  {
   "cell_type": "code",
   "execution_count": 37,
   "metadata": {},
   "outputs": [
    {
     "name": "stdout",
     "output_type": "stream",
     "text": [
      "The capital of Alabama  is Montgomery  .\n",
      "The capital of Alaska  is Juneau  .\n",
      "The capital of Arizona  is Phoenix  .\n",
      "The capital of Arkansas  is Little Rock  .\n",
      "The capital of California  is Sacramento  .\n",
      "The capital of Colorado  is Denver  .\n",
      "The capital of Connecticut  is Hartford  .\n",
      "The capital of Delaware  is Dover  .\n",
      "The capital of Florida  is Tallahassee  .\n",
      "The capital of Georgia  is Atlanta  .\n",
      "The capital of Hawaii  is Honolulu  .\n",
      "The capital of Idaho  is Boise  .\n",
      "The capital of Illinois  is Springfield  .\n",
      "The capital of Indiana  is Indianapolis  .\n",
      "The capital of Iowa  is Des Moines  .\n",
      "The capital of Kansas  is Topeka  .\n",
      "The capital of Kentucky  is Frankfort  .\n",
      "The capital of Louisiana  is Baton Rouge  .\n",
      "The capital of Maine  is Augusta  .\n",
      "The capital of Maryland  is Annapolis  .\n",
      "The capital of Massachusetts  is Boston  .\n",
      "The capital of Michigan  is Lansing  .\n",
      "The capital of Minnesota  is St. Paul  .\n",
      "The capital of Mississippi  is Jackson  .\n",
      "The capital of Missouri  is Jefferson City  .\n",
      "The capital of Montana  is Helena .\n",
      "The capital of Nebraska  is Lincoln .\n",
      "The capital of Nevada  is Carson City .\n",
      "The capital of New Hampshire  is Concord .\n",
      "The capital of New Jersey  is Trenton .\n",
      "The capital of New Mexico  is Santa Fe .\n",
      "The capital of New York  is Albany .\n",
      "The capital of North Carolina  is Raleigh .\n",
      "The capital of North Dakota  is Bismarck .\n",
      "The capital of Ohio  is Columbus .\n",
      "The capital of Oklahoma  is Oklahoma City .\n",
      "The capital of Oregon  is Salem .\n",
      "The capital of Pennsylvania  is Harrisburg .\n",
      "The capital of Rhode Island  is Providence .\n",
      "The capital of South Carolina  is Columbia .\n",
      "The capital of South Dakota  is Pierre .\n",
      "The capital of Tennessee  is Nashville .\n",
      "The capital of Texas  is Austin .\n",
      "The capital of Utah  is Salt Lake City .\n",
      "The capital of Vermont  is Montpelier .\n",
      "The capital of Virginia  is Richmond .\n",
      "The capital of Washington  is Olympia .\n",
      "The capital of West Virginia  is Charleston .\n",
      "The capital of Wisconsin  is Madison .\n",
      "The capital of Wyoming  is Cheyenne .\n"
     ]
    }
   ],
   "source": [
    "# print out the states and capitals\n",
    "for FILL_IN_THE_BLANK in all_pairs:\n",
    "    print FILL_IN_THE_BLANK"
   ]
  },
  {
   "cell_type": "code",
   "execution_count": 48,
   "metadata": {},
   "outputs": [
    {
     "data": {
      "text/html": [
       "The capital of <b> Alabama : </b> is <em>Montgomery </em> <br/>\n",
       "The capital of <b> Alaska : </b> is <em>Juneau </em> <br/>\n",
       "The capital of <b> Arizona : </b> is <em>Phoenix </em> <br/>\n",
       "The capital of <b> Arkansas : </b> is <em>Little Rock </em> <br/>\n",
       "The capital of <b> California : </b> is <em>Sacramento </em> <br/>\n",
       "The capital of <b> Colorado : </b> is <em>Denver </em> <br/>\n",
       "The capital of <b> Connecticut : </b> is <em>Hartford </em> <br/>\n",
       "The capital of <b> Delaware : </b> is <em>Dover </em> <br/>\n",
       "The capital of <b> Florida : </b> is <em>Tallahassee </em> <br/>\n",
       "The capital of <b> Georgia : </b> is <em>Atlanta </em> <br/>\n",
       "The capital of <b> Hawaii : </b> is <em>Honolulu </em> <br/>\n",
       "The capital of <b> Idaho : </b> is <em>Boise </em> <br/>\n",
       "The capital of <b> Illinois : </b> is <em>Springfield </em> <br/>\n",
       "The capital of <b> Indiana : </b> is <em>Indianapolis </em> <br/>\n",
       "The capital of <b> Iowa : </b> is <em>Des Moines </em> <br/>\n",
       "The capital of <b> Kansas : </b> is <em>Topeka </em> <br/>\n",
       "The capital of <b> Kentucky : </b> is <em>Frankfort </em> <br/>\n",
       "The capital of <b> Louisiana : </b> is <em>Baton Rouge </em> <br/>\n",
       "The capital of <b> Maine : </b> is <em>Augusta </em> <br/>\n",
       "The capital of <b> Maryland : </b> is <em>Annapolis </em> <br/>\n",
       "The capital of <b> Massachusetts : </b> is <em>Boston </em> <br/>\n",
       "The capital of <b> Michigan : </b> is <em>Lansing </em> <br/>\n",
       "The capital of <b> Minnesota : </b> is <em>St. Paul </em> <br/>\n",
       "The capital of <b> Mississippi : </b> is <em>Jackson </em> <br/>\n",
       "The capital of <b> Missouri : </b> is <em>Jefferson City </em> <br/>\n",
       "The capital of <b> Montana : </b> is <em>Helena</em> <br/>\n",
       "The capital of <b> Nebraska : </b> is <em>Lincoln</em> <br/>\n",
       "The capital of <b> Nevada : </b> is <em>Carson City</em> <br/>\n",
       "The capital of <b> New Hampshire : </b> is <em>Concord</em> <br/>\n",
       "The capital of <b> New Jersey : </b> is <em>Trenton</em> <br/>\n",
       "The capital of <b> New Mexico : </b> is <em>Santa Fe</em> <br/>\n",
       "The capital of <b> New York : </b> is <em>Albany</em> <br/>\n",
       "The capital of <b> North Carolina : </b> is <em>Raleigh</em> <br/>\n",
       "The capital of <b> North Dakota : </b> is <em>Bismarck</em> <br/>\n",
       "The capital of <b> Ohio : </b> is <em>Columbus</em> <br/>\n",
       "The capital of <b> Oklahoma : </b> is <em>Oklahoma City</em> <br/>\n",
       "The capital of <b> Oregon : </b> is <em>Salem</em> <br/>\n",
       "The capital of <b> Pennsylvania : </b> is <em>Harrisburg</em> <br/>\n",
       "The capital of <b> Rhode Island : </b> is <em>Providence</em> <br/>\n",
       "The capital of <b> South Carolina : </b> is <em>Columbia</em> <br/>\n",
       "The capital of <b> South Dakota : </b> is <em>Pierre</em> <br/>\n",
       "The capital of <b> Tennessee : </b> is <em>Nashville</em> <br/>\n",
       "The capital of <b> Texas : </b> is <em>Austin</em> <br/>\n",
       "The capital of <b> Utah : </b> is <em>Salt Lake City</em> <br/>\n",
       "The capital of <b> Vermont : </b> is <em>Montpelier</em> <br/>\n",
       "The capital of <b> Virginia : </b> is <em>Richmond</em> <br/>\n",
       "The capital of <b> Washington : </b> is <em>Olympia</em> <br/>\n",
       "The capital of <b> West Virginia : </b> is <em>Charleston</em> <br/>\n",
       "The capital of <b> Wisconsin : </b> is <em>Madison</em> <br/>\n",
       "The capital of <b> Wyoming : </b> is <em>Cheyenne</em> <br/>"
      ],
      "text/plain": [
       "<IPython.core.display.HTML object>"
      ]
     },
     "metadata": {},
     "output_type": "display_data"
    }
   ],
   "source": [
    "# Embed as HTML\n",
    "state_HTML_List = []\n",
    "for FILL_IN_THE_BLANK:\n",
    "    element = \"The capital of <b> %s: </b> is <em>%s</em> <br/>\" % FILL_IN_THE_BLANK\n",
    "    state_HTML_List.append(element)\n",
    "state_HTML_string = \"\\n\".join(state_HTML_List)\n",
    "\n",
    "display(HTML(state_HTML_string))"
   ]
  },
  {
   "cell_type": "code",
   "execution_count": null,
   "metadata": {},
   "outputs": [],
   "source": []
  }
 ],
 "metadata": {
  "kernelspec": {
   "display_name": "Python 3",
   "language": "python",
   "name": "python3"
  },
  "language_info": {
   "codemirror_mode": {
    "name": "ipython",
    "version": 3
   },
   "file_extension": ".py",
   "mimetype": "text/x-python",
   "name": "python",
   "nbconvert_exporter": "python",
   "pygments_lexer": "ipython3",
   "version": "3.6.8"
  }
 },
 "nbformat": 4,
 "nbformat_minor": 2
}
