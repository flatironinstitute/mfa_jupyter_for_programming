{
 "cells": [
  {
   "cell_type": "markdown",
   "metadata": {},
   "source": [
    "# Learning Python using Jupyter -- some simple examples.\n",
    "\n",
    "The following hopes to show how to use Jupyter notebook to teach programming\n",
    "by example by\n",
    "walking through how to use Python program fragments to compute the\n",
    "areas of some geometric figures.\n",
    "\n",
    "The notebook includes `FILL_IN_THE_BLANK` regions where the notebook\n",
    "user must complete the code fragment to get it to work.\n",
    "\n",
    "# Resources\n",
    "\n",
    "<a href=\"https://www.cs.put.poznan.pl/csobaniec/software/python/py-qrc.html\">\n",
    "A Python quick reference card.</a>\n",
    "\n",
    "<a href=\"https://www.python.org/\">The Python organization web site with\n",
    "links to tutorials and other documentation</a>\n",
    "\n",
    "<a hfef=\"https://jupyter.org/try\">Links to run some Jupyter notebooks\n",
    "containing introductory material provided by the official Jupyter project\n",
    "web site</a>\n",
    "\n",
    "# What is Jupyter?\n",
    "\n",
    "For all the details please go to <a href=\"https://jupyter.org/\">the Jupyter project web site (jupyter.org)</a>.\n",
    "\n",
    "- Jupyter is a web app.\n",
    "- Jupyter is an interactive interface to Python (and other programming environments).\n",
    "- Jupyter can be run locally on your machine or remotely \"in the cloud\".\n",
    "- Jupyter can be used as a calculator.\n",
    "\n",
    "<img src=\"calculator.jpg\" width=\"200pt\"/>\n",
    "\n",
    "For example we can do simple calculations. Like...\n",
    "\n",
    "# The area of a rectangle"
   ]
  },
  {
   "cell_type": "code",
   "execution_count": null,
   "metadata": {},
   "outputs": [],
   "source": [
    "# Compute the area of a rectangle 34 meters wide and 22 meters high?\n",
    "\n",
    "34 * 22  # * is \"times\" read \"thirty-four times twenty-two\""
   ]
  },
  {
   "cell_type": "code",
   "execution_count": null,
   "metadata": {},
   "outputs": [],
   "source": [
    "\n",
    "# I put some helpful illustrations in an external module\n",
    "# Here we import the module so we can execute the illustrations without displaying\n",
    "# the code that implements the illustrations.\n",
    "import calculator_illustrations as eg\n",
    "eg.DO_EMBEDDINGS = False  # set to true to create images of the illustration\n",
    "\n",
    "eg.rect_34_22()  # The rectangle illustration."
   ]
  },
  {
   "cell_type": "code",
   "execution_count": null,
   "metadata": {},
   "outputs": [],
   "source": [
    "# Python allows you to name values symbolically.\n",
    "# Let's use variables to name things\n",
    "width = 34\n",
    "height = 22\n",
    "\n",
    "# Here is an example of a print which can be used to provide more readable output.\n",
    "print(\"A rectangle\", width, \"meters wide and\", height, \n",
    "      \"meters high has area\", FILL_IN_THE_BLANK_USING_VARIABLE_NAMES, \"square meters\")"
   ]
  },
  {
   "cell_type": "code",
   "execution_count": null,
   "metadata": {},
   "outputs": [],
   "source": [
    "\n",
    "# Even better: let's use a function abstraction which validates the arguments\n",
    "\n",
    "def rectangle_area(width, height):\n",
    "    if (width < 0) or (height < 0):\n",
    "        raise ValueError(\"width and height must be non-negative\")\n",
    "    return FILL_IN_THE_BLANK"
   ]
  },
  {
   "cell_type": "code",
   "execution_count": null,
   "metadata": {},
   "outputs": [],
   "source": [
    "# Compute the area of a rectangle of width 1.5 and height 5\n",
    "rectangle_area(1.5, 5)"
   ]
  },
  {
   "cell_type": "code",
   "execution_count": null,
   "metadata": {},
   "outputs": [],
   "source": [
    "# Let's check your implementation:\n",
    "# The following \"assert test\" checks that the function gives\n",
    "# the right answer for width 3 and height 7\n",
    "# If the assert fails please fix the rectangle_area function and try again.\n",
    "assert rectangle_area(3, 7) == 21"
   ]
  },
  {
   "cell_type": "markdown",
   "metadata": {},
   "source": [
    "# The area of a triangle\n",
    "\n",
    "Who remembers how to compute the area of a triangle (from width and height)?"
   ]
  },
  {
   "cell_type": "code",
   "execution_count": null,
   "metadata": {},
   "outputs": [],
   "source": [
    "eg.triangle_34_22()  # Illustration shows a triangle with height 22 and width 34 when run."
   ]
  },
  {
   "cell_type": "code",
   "execution_count": null,
   "metadata": {},
   "outputs": [],
   "source": [
    "def wh_triangle_area(width, height):\n",
    "    \"The area of a triangle specified by width and height.\"\n",
    "    FILL_IN_THE_BLANK_WITH_VALIDATION"
   ]
  },
  {
   "cell_type": "code",
   "execution_count": null,
   "metadata": {},
   "outputs": [],
   "source": [
    "assert wh_triangle_area(34, 22) == 374 # test the function for width 34 and height 22"
   ]
  },
  {
   "cell_type": "markdown",
   "metadata": {},
   "source": [
    "# Triangle area from cartesian coordinates\n",
    "\n",
    "How do you compute the area of a triangle\n",
    "if you aren't given the width and height?\n",
    "\n",
    "What about if we just know Cartesian (x,y) the coordinates of the triangle vertices?"
   ]
  },
  {
   "cell_type": "code",
   "execution_count": null,
   "metadata": {},
   "outputs": [],
   "source": [
    "p1 = (5, 2)\n",
    "p2 = (13, 21)\n",
    "p3 = (22, 7)\n",
    "eg.triangle_coords()"
   ]
  },
  {
   "cell_type": "code",
   "execution_count": null,
   "metadata": {},
   "outputs": [],
   "source": [
    "# Break it down into simpler problems\n",
    "# We break the triangle into 3 \"simpler quadrilaterals\"\n",
    "eg.triangle_subproblems()"
   ]
  },
  {
   "cell_type": "markdown",
   "metadata": {},
   "source": [
    "# To get the triangle area (shaded)\n",
    "```\n",
    "(shaded area of triangle) = (pink quad area) + (green quad area) -  (lower blue quad area)\n",
    "```\n",
    "\n",
    "The right hand side areas are all of quadrilaterals of a special kind:\n",
    "- the left and right sides are vertical, and\n",
    "- the base is on the X axis.\n",
    "\n",
    "How do you compute the area of a special quadrilateral like this?  Here is a diagram:"
   ]
  },
  {
   "cell_type": "code",
   "execution_count": null,
   "metadata": {},
   "outputs": [],
   "source": [
    "eg.abstract_quad()"
   ]
  },
  {
   "cell_type": "code",
   "execution_count": null,
   "metadata": {},
   "outputs": [],
   "source": [
    "# How do you compute the area of any quadrilateral like this one?\n",
    "# Complete the function:\n",
    "\n",
    "def quad_area(point1, point2, check_positive=False):\n",
    "    (x1, y1) = point1\n",
    "    (x2, y2) = point2\n",
    "    the_area = FILL_IN_THE_BLANK\n",
    "    if check_positive and the_area < 0:\n",
    "        the_area = - the_area\n",
    "    return the_area\n",
    "\n",
    "quad_area(p2, p3)"
   ]
  },
  {
   "cell_type": "code",
   "execution_count": null,
   "metadata": {},
   "outputs": [],
   "source": [
    "# Test cases\n",
    "assert quad_area(p2, p2) == 0\n",
    "assert quad_area((1,1), (2,1)) == 1\n",
    "assert quad_area((2,1), (1,1)) == -1\n",
    "assert quad_area((2,1), (1,1), check_positive=True) == 1\n",
    "assert quad_area((1,1), (1,2)) == 0\n",
    "assert ADD_ANOTHER_TEST_HERE"
   ]
  },
  {
   "cell_type": "code",
   "execution_count": null,
   "metadata": {},
   "outputs": [],
   "source": []
  }
 ],
 "metadata": {
  "kernelspec": {
   "display_name": "Python 3",
   "language": "python",
   "name": "python3"
  },
  "language_info": {
   "codemirror_mode": {
    "name": "ipython",
    "version": 3
   },
   "file_extension": ".py",
   "mimetype": "text/x-python",
   "name": "python",
   "nbconvert_exporter": "python",
   "pygments_lexer": "ipython3",
   "version": "3.6.8"
  }
 },
 "nbformat": 4,
 "nbformat_minor": 2
}
