{
 "cells": [
  {
   "cell_type": "markdown",
   "metadata": {},
   "source": [
    "# Learning Python using Jupyter -- some simple examples.\n",
    "\n",
    "The following hopes to show how to use Jupyter notebook to teach programming\n",
    "by example by\n",
    "walking through how to use Python program fragments to compute the\n",
    "areas of some geometric figures.\n",
    "\n",
    "The notebook includes `FILL_IN_THE_BLANK` regions where the notebook\n",
    "user must complete the code fragment to get it to work.\n",
    "\n",
    "# Resources\n",
    "\n",
    "The material in this discussion assumes some familiarity with basic\n",
    "programming concepts and reasonable familiarity with middle school level\n",
    "mathematics.  The following additional resources might be useful.\n",
    "\n",
    "<a href=\"https://www.cs.put.poznan.pl/csobaniec/software/python/py-qrc.html\">\n",
    "A Python quick reference card.</a>\n",
    "\n",
    "<a href=\"https://www.python.org/\">The Python organization web site with\n",
    "links to tutorials and other documentation</a>\n",
    "\n",
    "<a hfef=\"https://jupyter.org/try\">Links to run some Jupyter notebooks\n",
    "containing introductory material provided by the official Jupyter project\n",
    "web site</a>\n",
    "\n",
    "# What is Jupyter?\n",
    "\n",
    "For all the details please go to <a href=\"https://jupyter.org/\">the Jupyter project web site (jupyter.org)</a>.\n",
    "\n",
    "- Jupyter is a web app.\n",
    "- Jupyter is an interactive interface to Python (and other programming environments).\n",
    "- Jupyter can be run locally on your machine or remotely \"in the cloud\".\n",
    "- Jupyter can be used as a calculator.\n",
    "\n",
    "<img src=\"calculator.jpg\" width=\"200pt\"/>\n",
    "\n",
    "For example we can do simple calculations. Like...\n",
    "\n",
    "# The area of a rectangle"
   ]
  },
  {
   "cell_type": "code",
   "execution_count": null,
   "metadata": {},
   "outputs": [],
   "source": [
    "# Compute the area of a rectangle 34 meters wide and 22 meters high:\n",
    "\n",
    "34 * 22  # * is \"times\" read \"thirty-four times twenty-two\""
   ]
  },
  {
   "cell_type": "markdown",
   "metadata": {},
   "source": [
    "### The illustrations...\n",
    "\n",
    "I put some helpful illustrations in an external module\n",
    "Here we import the module so we can execute the illustrations without displaying\n",
    "the code that implements the illustrations."
   ]
  },
  {
   "cell_type": "code",
   "execution_count": 1,
   "metadata": {},
   "outputs": [
    {
     "data": {
      "application/vnd.jupyter.widget-view+json": {
       "model_id": "f5a21f7870de46ff90cc103ca19bc54a",
       "version_major": 2,
       "version_minor": 0
      },
      "text/plain": [
       "DualCanvasWidget(status='Not yet rendered')"
      ]
     },
     "metadata": {},
     "output_type": "display_data"
    },
    {
     "data": {
      "text/html": [
       "<img src=\"rect_34_22.png\"/>"
      ],
      "text/plain": [
       "<IPython.core.display.HTML object>"
      ]
     },
     "metadata": {},
     "output_type": "display_data"
    }
   ],
   "source": [
    "import calculator_illustrations as eg\n",
    "eg.DO_EMBEDDINGS = False  # set to true to create images of the illustration\n",
    "\n",
    "eg.rect_34_22()  # The rectangle illustration."
   ]
  },
  {
   "cell_type": "code",
   "execution_count": null,
   "metadata": {},
   "outputs": [],
   "source": [
    "# Python allows you to name values symbolically.\n",
    "# Let's use variables to name things\n",
    "width = 34\n",
    "height = 22\n",
    "\n",
    "# Here is an example of a print which can be used to provide more readable output.\n",
    "print(\"A rectangle\", width, \"meters wide and\", height, \n",
    "      \"meters high has area\", FILL_IN_THE_BLANK_USING_VARIABLE_NAMES, \"square meters\")"
   ]
  },
  {
   "cell_type": "code",
   "execution_count": null,
   "metadata": {},
   "outputs": [],
   "source": [
    "\n",
    "# Even better: let's use a function abstraction which validates the arguments\n",
    "\n",
    "def rectangle_area(width, height):\n",
    "    if (width < 0) or (height < 0):\n",
    "        raise ValueError(\"width and height must be non-negative\")\n",
    "    return FILL_IN_THE_BLANK"
   ]
  },
  {
   "cell_type": "code",
   "execution_count": null,
   "metadata": {},
   "outputs": [],
   "source": [
    "# Compute the area of a rectangle of width 1.5 and height 5\n",
    "rectangle_area(1.5, 5)"
   ]
  },
  {
   "cell_type": "code",
   "execution_count": null,
   "metadata": {},
   "outputs": [],
   "source": [
    "# Let's check your implementation:\n",
    "# The following \"assert test\" checks that the function gives\n",
    "# the right answer for width 3 and height 7\n",
    "# If the assert fails please fix the rectangle_area function and try again.\n",
    "assert rectangle_area(3, 7) == 21"
   ]
  },
  {
   "cell_type": "markdown",
   "metadata": {},
   "source": [
    "# The area of a triangle\n",
    "\n",
    "Who remembers how to compute the area of a triangle (from width and height)?"
   ]
  },
  {
   "cell_type": "code",
   "execution_count": 2,
   "metadata": {},
   "outputs": [
    {
     "data": {
      "application/vnd.jupyter.widget-view+json": {
       "model_id": "88ac3da35d234050822df4a775d608b1",
       "version_major": 2,
       "version_minor": 0
      },
      "text/plain": [
       "DualCanvasWidget(status='Not yet rendered')"
      ]
     },
     "metadata": {},
     "output_type": "display_data"
    },
    {
     "data": {
      "text/html": [
       "<img src=\"triangle_34_22.png\"/>"
      ],
      "text/plain": [
       "<IPython.core.display.HTML object>"
      ]
     },
     "metadata": {},
     "output_type": "display_data"
    }
   ],
   "source": [
    "eg.triangle_34_22()  # Illustration shows a triangle with height 22 and width 34 when run."
   ]
  },
  {
   "cell_type": "code",
   "execution_count": null,
   "metadata": {},
   "outputs": [],
   "source": [
    "def wh_triangle_area(width, height):\n",
    "    \"The area of a triangle specified by width and height.\"\n",
    "    FILL_IN_THE_BLANK_WITH_VALIDATION"
   ]
  },
  {
   "cell_type": "code",
   "execution_count": null,
   "metadata": {},
   "outputs": [],
   "source": [
    "assert wh_triangle_area(34, 22) == 374 # test the function for width 34 and height 22"
   ]
  },
  {
   "cell_type": "markdown",
   "metadata": {},
   "source": [
    "# Triangle area from cartesian coordinates\n",
    "\n",
    "How do you compute the area of a triangle\n",
    "if you aren't given the width and height?\n",
    "\n",
    "What about if we just know Cartesian (x,y) the coordinates of the triangle vertices?"
   ]
  },
  {
   "cell_type": "code",
   "execution_count": 3,
   "metadata": {},
   "outputs": [
    {
     "data": {
      "application/vnd.jupyter.widget-view+json": {
       "model_id": "968a5732c8bd4a54b0ddabbae05fa5c7",
       "version_major": 2,
       "version_minor": 0
      },
      "text/plain": [
       "DualCanvasWidget(status='Not yet rendered')"
      ]
     },
     "metadata": {},
     "output_type": "display_data"
    },
    {
     "data": {
      "text/html": [
       "<img src=\"triangle_coords.png\"/>"
      ],
      "text/plain": [
       "<IPython.core.display.HTML object>"
      ]
     },
     "metadata": {},
     "output_type": "display_data"
    }
   ],
   "source": [
    "p1 = (5, 2)\n",
    "p2 = (13, 21)\n",
    "p3 = (22, 7)\n",
    "eg.triangle_coords()"
   ]
  },
  {
   "cell_type": "code",
   "execution_count": 4,
   "metadata": {},
   "outputs": [
    {
     "data": {
      "application/vnd.jupyter.widget-view+json": {
       "model_id": "405c8d12e2054284b87a421fa0488372",
       "version_major": 2,
       "version_minor": 0
      },
      "text/plain": [
       "DualCanvasWidget(status='Not yet rendered')"
      ]
     },
     "metadata": {},
     "output_type": "display_data"
    },
    {
     "data": {
      "text/html": [
       "<img src=\"triangle_subproblems.png\"/>"
      ],
      "text/plain": [
       "<IPython.core.display.HTML object>"
      ]
     },
     "metadata": {},
     "output_type": "display_data"
    }
   ],
   "source": [
    "# Break it down into simpler problems\n",
    "# We break the triangle into 3 \"simpler quadrilaterals\"\n",
    "eg.triangle_subproblems()"
   ]
  },
  {
   "cell_type": "markdown",
   "metadata": {},
   "source": [
    "# To get the triangle area (shaded)\n",
    "```\n",
    "(shaded area of triangle) = (pink quad area) + (green quad area) -  (lower blue quad area)\n",
    "```\n",
    "\n",
    "The right hand side areas are all of quadrilaterals of a special kind:\n",
    "- the left and right sides are vertical, and\n",
    "- the base is on the X axis.\n",
    "\n",
    "How do you compute the area of a special quadrilateral like this?  Here is a diagram:"
   ]
  },
  {
   "cell_type": "code",
   "execution_count": 5,
   "metadata": {},
   "outputs": [
    {
     "data": {
      "application/vnd.jupyter.widget-view+json": {
       "model_id": "68b48651a48b4470bb50eeed71834d48",
       "version_major": 2,
       "version_minor": 0
      },
      "text/plain": [
       "DualCanvasWidget(status='Not yet rendered')"
      ]
     },
     "metadata": {},
     "output_type": "display_data"
    },
    {
     "data": {
      "text/html": [
       "<img src=\"abstract_quad.png\"/>"
      ],
      "text/plain": [
       "<IPython.core.display.HTML object>"
      ]
     },
     "metadata": {},
     "output_type": "display_data"
    }
   ],
   "source": [
    "eg.abstract_quad()"
   ]
  },
  {
   "cell_type": "code",
   "execution_count": null,
   "metadata": {},
   "outputs": [],
   "source": [
    "# How do you compute the area of any quadrilateral like this one?\n",
    "# Complete the function:\n",
    "\n",
    "def quad_area(point1, point2, check_positive=False):\n",
    "    (x1, y1) = point1\n",
    "    (x2, y2) = point2\n",
    "    the_area = FILL_IN_THE_BLANK\n",
    "    if check_positive and the_area < 0:\n",
    "        # This is the same as swapping point1 and point2...\n",
    "        the_area = - the_area\n",
    "    return the_area\n",
    "\n",
    "quad_area(p2, p3)"
   ]
  },
  {
   "cell_type": "code",
   "execution_count": null,
   "metadata": {},
   "outputs": [],
   "source": [
    "# Test cases\n",
    "assert quad_area(p2, p2) == 0\n",
    "assert quad_area((1,1), (2,1)) == 1\n",
    "assert quad_area((2,1), (1,1)) == -1\n",
    "assert quad_area((2,1), (1,1), check_positive=True) == 1\n",
    "assert quad_area((1,1), (1,2)) == 0\n",
    "#assert ADD_ANOTHER_TEST_HERE"
   ]
  },
  {
   "cell_type": "markdown",
   "metadata": {},
   "source": [
    "# Now use the `quad_area` function to compute triangle areas"
   ]
  },
  {
   "cell_type": "code",
   "execution_count": null,
   "metadata": {},
   "outputs": [],
   "source": [
    "\n",
    "def xy_triangle_area(p1, p2, p3):\n",
    "    the_area = FILL_IN_THE_BLANK\n",
    "    # If the area calculation is correct for clockwise then anti-clockwise may be negative\n",
    "    if (the_area < 0):\n",
    "        # This is the same for reversing the orientation\n",
    "        the_area = - the_area\n",
    "    return the_area\n",
    "\n",
    "xy_triangle_area(p1, p2, p3)"
   ]
  },
  {
   "cell_type": "code",
   "execution_count": null,
   "metadata": {},
   "outputs": [],
   "source": [
    "# sanity tests\n",
    "assert xy_triangle_area((0,1), (1,1), (1, 0)) == 0.5\n",
    "assert xy_triangle_area((10,11), (11,11), (11, 10)) == 0.5\n",
    "assert xy_triangle_area((100,110), (110,110), (110, 100)) == 50\n",
    "# assert ADD_ANOTHER_SANITY_TEST_HERE"
   ]
  },
  {
   "cell_type": "markdown",
   "metadata": {},
   "source": [
    "# Computing triangle areas in other ways\n",
    "\n",
    "We can use results from trigonometry to compute many values related to triangles.\n",
    "Python provides the standard trigonometric functions \n",
    "(`math.sin(r), math.cos(r), math.tan(r)`, etcetera)\n",
    "in the standard `math` module\n",
    "which must be imported -- but remember all angles must be given in *radians*.\n",
    "$$\n",
    "\\pi  = {180}^\\circ\n",
    "$$\n",
    "(Note above I'm using embedded LaTex math notation)"
   ]
  },
  {
   "cell_type": "code",
   "execution_count": null,
   "metadata": {},
   "outputs": [],
   "source": [
    "import math\n",
    "print(\"pi = \", math.pi)\n",
    "\n",
    "def degree2rad(deg):\n",
    "    return deg * (math.pi/180.0)\n",
    "\n",
    "print(\"The cosine of 60 degrees is\", math.cos(degree2rad(60)))"
   ]
  },
  {
   "cell_type": "markdown",
   "metadata": {},
   "source": [
    "*Exercise*: How can you use the `math` module to compute the area of a right triangle using\n",
    "the length of the triangle base and the angle adjacent to the base?"
   ]
  },
  {
   "cell_type": "code",
   "execution_count": 6,
   "metadata": {},
   "outputs": [
    {
     "data": {
      "application/vnd.jupyter.widget-view+json": {
       "model_id": "b1981305ee1d42b1bec0a12596cdd369",
       "version_major": 2,
       "version_minor": 0
      },
      "text/plain": [
       "DualCanvasWidget(status='Not yet rendered')"
      ]
     },
     "metadata": {},
     "output_type": "display_data"
    },
    {
     "data": {
      "text/html": [
       "<img src=\"right_triangle.png\"/>"
      ],
      "text/plain": [
       "<IPython.core.display.HTML object>"
      ]
     },
     "metadata": {},
     "output_type": "display_data"
    }
   ],
   "source": [
    "eg.right_triangle()"
   ]
  },
  {
   "cell_type": "code",
   "execution_count": null,
   "metadata": {},
   "outputs": [],
   "source": [
    "def ab_area_of_triangle(angle_degrees, base):\n",
    "    return FILL_IN_THE_BLANK"
   ]
  },
  {
   "cell_type": "code",
   "execution_count": null,
   "metadata": {},
   "outputs": [],
   "source": [
    "# MAKE SOME TEST CASES FOR THE ab_area_of_triangle FUNCTION HERE...\n",
    "assert 1 == 0"
   ]
  },
  {
   "cell_type": "markdown",
   "metadata": {},
   "source": [
    "# Polygons:  Introducing lists\n",
    "\n",
    "We have already used parentheses to group numbers into *python tuples*.\n",
    "We can use square brackets to create *python lists*.\n",
    "Below we create a list of tuples of numbers representing the vertices\n",
    "of a polygon."
   ]
  },
  {
   "cell_type": "code",
   "execution_count": 7,
   "metadata": {},
   "outputs": [
    {
     "data": {
      "application/vnd.jupyter.widget-view+json": {
       "model_id": "17f262889d7e4f51bf2c293daaccc731",
       "version_major": 2,
       "version_minor": 0
      },
      "text/plain": [
       "DualCanvasWidget(status='Not yet rendered')"
      ]
     },
     "metadata": {},
     "output_type": "display_data"
    },
    {
     "data": {
      "text/html": [
       "<img src=\"polygon.png\"/>"
      ],
      "text/plain": [
       "<IPython.core.display.HTML object>"
      ]
     },
     "metadata": {},
     "output_type": "display_data"
    }
   ],
   "source": [
    "points = [\n",
    "    (0,6),\n",
    "    (3,0),\n",
    "    (10,2),\n",
    "    (12,9),\n",
    "    (9,12),\n",
    "    (6,17)\n",
    "]\n",
    "eg.polygon(points)"
   ]
  },
  {
   "cell_type": "code",
   "execution_count": null,
   "metadata": {},
   "outputs": [],
   "source": [
    "# Polygons have a lot of useful features\n",
    "print(\"the first point is\", points[0])\n",
    "print(\"the second point is\", points[1])\n",
    "print(\"the last point is\", points[-1])\n",
    "print(\"There are\", len(points), \"points\")"
   ]
  },
  {
   "cell_type": "code",
   "execution_count": null,
   "metadata": {},
   "outputs": [],
   "source": [
    "# One of the most useful things you can do with lists is iterate over their members\n",
    "total_x = 0\n",
    "for point in points:\n",
    "    (x, y) = point\n",
    "    total_x = total_x + x\n",
    "    \n",
    "# (Purists will object that there are better/alternative ways to do the above\n",
    "# but here we keep things simple for now.)\n",
    "print(\"the total of x's is\", total_x, \"and the average x value is\", total_x/len(points))"
   ]
  },
  {
   "cell_type": "markdown",
   "metadata": {},
   "source": [
    "**Exercise**:\n",
    "Use the `quad_area` function above to compute the area inside a (non-self-intersecting)\n",
    "polygon.  Generalize the method used for triangles (which are polygons with 3 vertices)."
   ]
  },
  {
   "cell_type": "code",
   "execution_count": 8,
   "metadata": {},
   "outputs": [
    {
     "data": {
      "application/vnd.jupyter.widget-view+json": {
       "model_id": "70c228ef1ec34390b357d172eb284d59",
       "version_major": 2,
       "version_minor": 0
      },
      "text/plain": [
       "DualCanvasWidget(status='Not yet rendered')"
      ]
     },
     "metadata": {},
     "output_type": "display_data"
    },
    {
     "data": {
      "text/html": [
       "<img src=\"polygon_subproblems.png\"/>"
      ],
      "text/plain": [
       "<IPython.core.display.HTML object>"
      ]
     },
     "metadata": {},
     "output_type": "display_data"
    }
   ],
   "source": [
    "eg.polygon_subproblems(points)"
   ]
  },
  {
   "cell_type": "code",
   "execution_count": null,
   "metadata": {},
   "outputs": [],
   "source": [
    "# Complete this implementation:\n",
    "\n",
    "def xy_polygon_area(points):\n",
    "    last_point = points[-1]\n",
    "    total_area = 0\n",
    "    for next_point in points:\n",
    "        FILL_IN_THE_BLANK\n",
    "        last_point = next_point\n",
    "    # wrong orientation: reverse it...\n",
    "    if total_area < 0:\n",
    "        total_area = - total_area\n",
    "    return total_area\n",
    "\n",
    "xy_polygon_area(points)"
   ]
  },
  {
   "cell_type": "code",
   "execution_count": null,
   "metadata": {},
   "outputs": [],
   "source": [
    "# sanity tests\n",
    "assert xy_polygon_area([(1,1), (1,2), (2,2), (2,1)]) == 1\n",
    "assert xy_polygon_area([(1,1), (1,2), (2,2+1), (2,1+1)]) == 1  # skew top shouldn't matter\n",
    "# ADD ANOTHER SANITY TEST..."
   ]
  },
  {
   "cell_type": "code",
   "execution_count": null,
   "metadata": {},
   "outputs": [],
   "source": []
  }
 ],
 "metadata": {
  "kernelspec": {
   "display_name": "Python 3",
   "language": "python",
   "name": "python3"
  },
  "language_info": {
   "codemirror_mode": {
    "name": "ipython",
    "version": 3
   },
   "file_extension": ".py",
   "mimetype": "text/x-python",
   "name": "python",
   "nbconvert_exporter": "python",
   "pygments_lexer": "ipython3",
   "version": "3.6.8"
  }
 },
 "nbformat": 4,
 "nbformat_minor": 2
}
