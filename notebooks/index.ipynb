{
 "cells": [
  {
   "cell_type": "markdown",
   "metadata": {},
   "source": [
    "# Notebooks for \"Teaching Programming Using Jupyter\"\n",
    "\n",
    "This directory contains Jupyter notebooks to support the workshop\n",
    "\"How to use Jupyter to Teach Programming\".\n",
    "\n",
    "The following is the intended order of presentation:\n",
    "\n",
    "## Workshop Part 1: Basic Jupyter for Programming\n",
    "\n",
    "- The <a href=\"Backgrounder.ipynb\">Backbrounder notebook</a> provides\n",
    "some contextual background information about the contents of the Workshop.\n",
    "\n",
    "- The <a href=\"Jupyter%20as%20a%20calculator.ipynb\">Jupyter as a calulator notebook</a>\n",
    "shows how Jupyter can be used to perform simple calculations.\n",
    "\n",
    "- The <a href=\"Strings%20Lists%20and%20Loops%20for%20HTML.ipynb\">Strings\n",
    "Lists and Loops for HTML</a> notebook demonstrates how to manipulate text\n",
    "strings and simple sequences in order to generate simple textual reports.\n",
    "\n",
    "- The <a href=\"Dictionaries%20and%20Sets%20(Hash%20tables).ipynb\">Dictionaries\n",
    "and Sets (Hash tables) notebook</a> introduces the use of mapped associations\n",
    "between objects to build more sophisticated data structures in Python programming.\n",
    "\n",
    "If any time remains we will look at\n",
    "<a href=\"https://jupyter4edu.github.io/jupyter-edu-book/\">the\n",
    "Handbook for Teaching and Learning with Jupyter</a> and discuss\n",
    "ways that Jupyter can be deployed in an educational setting.\n",
    "\n",
    "## Workshop Part 2: More advanced Jupyter for Programming with Visualizations\n",
    "\n",
    "At this writing the material for this part of the workshop is not complete.\n",
    "The content may be determined to some extent by the interests of the MfA master teachers."
   ]
  },
  {
   "cell_type": "code",
   "execution_count": null,
   "metadata": {},
   "outputs": [],
   "source": []
  }
 ],
 "metadata": {
  "kernelspec": {
   "display_name": "Python 3",
   "language": "python",
   "name": "python3"
  },
  "language_info": {
   "codemirror_mode": {
    "name": "ipython",
    "version": 3
   },
   "file_extension": ".py",
   "mimetype": "text/x-python",
   "name": "python",
   "nbconvert_exporter": "python",
   "pygments_lexer": "ipython3",
   "version": "3.6.8"
  }
 },
 "nbformat": 4,
 "nbformat_minor": 2
}
